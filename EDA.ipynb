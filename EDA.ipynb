{
 "cells": [
  {
   "cell_type": "code",
   "execution_count": 1,
   "id": "136a2c77-ae69-4374-b02c-0edfc4c3198d",
   "metadata": {},
   "outputs": [],
   "source": [
    "import pandas as pd\n",
    "import matplotlib.pyplot as plt\n",
    "from matplotlib.pyplot import figure\n",
    "import numpy as np\n",
    "import seaborn as sns"
   ]
  },
  {
   "cell_type": "code",
   "execution_count": 2,
   "id": "d5d30392-0d95-46d9-8839-e54b41329bab",
   "metadata": {},
   "outputs": [],
   "source": [
    "DATA_PATH = 'data/data.csv'\n",
    "PRODUCTS_PATH = 'data/products.csv'"
   ]
  },
  {
   "cell_type": "code",
   "execution_count": 3,
   "id": "7ee03399-061b-4b14-ba18-195f3b109b15",
   "metadata": {},
   "outputs": [
    {
     "data": {
      "text/html": [
       "<div>\n",
       "<style scoped>\n",
       "    .dataframe tbody tr th:only-of-type {\n",
       "        vertical-align: middle;\n",
       "    }\n",
       "\n",
       "    .dataframe tbody tr th {\n",
       "        vertical-align: top;\n",
       "    }\n",
       "\n",
       "    .dataframe thead th {\n",
       "        text-align: right;\n",
       "    }\n",
       "</style>\n",
       "<table border=\"1\" class=\"dataframe\">\n",
       "  <thead>\n",
       "    <tr style=\"text-align: right;\">\n",
       "      <th></th>\n",
       "      <th>order_price_without_vat</th>\n",
       "      <th>order_price_with_vat</th>\n",
       "      <th>bill_country</th>\n",
       "      <th>setting_currency_id</th>\n",
       "      <th>created_at</th>\n",
       "      <th>shop_basket_id</th>\n",
       "      <th>doc_date</th>\n",
       "      <th>exchange_currency_rate</th>\n",
       "      <th>source</th>\n",
       "      <th>currency_code</th>\n",
       "      <th>...</th>\n",
       "      <th>catalog_segment_id</th>\n",
       "      <th>categories_ancestor_ids</th>\n",
       "      <th>categories_descendant_ids</th>\n",
       "      <th>category_full_name_path</th>\n",
       "      <th>default_warranty_period</th>\n",
       "      <th>brand_name</th>\n",
       "      <th>brand_parameterized</th>\n",
       "      <th>segment_name</th>\n",
       "      <th>segment_parameterezied</th>\n",
       "      <th>segment_status</th>\n",
       "    </tr>\n",
       "  </thead>\n",
       "  <tbody>\n",
       "    <tr>\n",
       "      <th>0</th>\n",
       "      <td>23.66</td>\n",
       "      <td>28.15</td>\n",
       "      <td>DE</td>\n",
       "      <td>6</td>\n",
       "      <td>2020-04-26 19:47:36.799672</td>\n",
       "      <td>1182444</td>\n",
       "      <td>2020-04-26</td>\n",
       "      <td>1.0000</td>\n",
       "      <td>eshop</td>\n",
       "      <td>EUR</td>\n",
       "      <td>...</td>\n",
       "      <td>3.0</td>\n",
       "      <td>{1182,1267}</td>\n",
       "      <td>{}</td>\n",
       "      <td>{Bikes,\"Cycling accessories\",\"Bicycle cleaning...</td>\n",
       "      <td>24.0</td>\n",
       "      <td>Shimano</td>\n",
       "      <td>shimano</td>\n",
       "      <td>Bike</td>\n",
       "      <td>bike</td>\n",
       "      <td>active</td>\n",
       "    </tr>\n",
       "    <tr>\n",
       "      <th>1</th>\n",
       "      <td>41.66</td>\n",
       "      <td>49.99</td>\n",
       "      <td>SK</td>\n",
       "      <td>6</td>\n",
       "      <td>2020-04-26 19:28:05.651524</td>\n",
       "      <td>967031</td>\n",
       "      <td>2020-04-26</td>\n",
       "      <td>1.0000</td>\n",
       "      <td>eshop</td>\n",
       "      <td>EUR</td>\n",
       "      <td>...</td>\n",
       "      <td>16.0</td>\n",
       "      <td>{3526}</td>\n",
       "      <td>{}</td>\n",
       "      <td>{\"LP platne a CD\",\"Vinyl Records\"}</td>\n",
       "      <td>24.0</td>\n",
       "      <td>Amorphis</td>\n",
       "      <td>amorphis</td>\n",
       "      <td>LPs and CDs</td>\n",
       "      <td>lps-and-cds</td>\n",
       "      <td>inactive</td>\n",
       "    </tr>\n",
       "    <tr>\n",
       "      <th>2</th>\n",
       "      <td>307.48</td>\n",
       "      <td>365.90</td>\n",
       "      <td>RO</td>\n",
       "      <td>13</td>\n",
       "      <td>2020-04-26 19:29:29.317773</td>\n",
       "      <td>1182261</td>\n",
       "      <td>2020-04-26</td>\n",
       "      <td>4.8555</td>\n",
       "      <td>eshop</td>\n",
       "      <td>RON</td>\n",
       "      <td>...</td>\n",
       "      <td>1.0</td>\n",
       "      <td>{3,338,372}</td>\n",
       "      <td>{}</td>\n",
       "      <td>{Music,Drums,Percussions,Darbukas}</td>\n",
       "      <td>24.0</td>\n",
       "      <td>Meinl</td>\n",
       "      <td>meinl</td>\n",
       "      <td>Music</td>\n",
       "      <td>music</td>\n",
       "      <td>active</td>\n",
       "    </tr>\n",
       "    <tr>\n",
       "      <th>3</th>\n",
       "      <td>365.55</td>\n",
       "      <td>435.00</td>\n",
       "      <td>RO</td>\n",
       "      <td>13</td>\n",
       "      <td>2020-04-26 20:25:06.976207</td>\n",
       "      <td>1172378</td>\n",
       "      <td>2020-04-26</td>\n",
       "      <td>4.8555</td>\n",
       "      <td>eshop</td>\n",
       "      <td>RON</td>\n",
       "      <td>...</td>\n",
       "      <td>1.0</td>\n",
       "      <td>{3,4}</td>\n",
       "      <td>{}</td>\n",
       "      <td>{Music,Guitars,\"Guitar Training Accessories\"}</td>\n",
       "      <td>24.0</td>\n",
       "      <td>D'Addario Planet Waves</td>\n",
       "      <td>d-addario-planet-waves</td>\n",
       "      <td>Music</td>\n",
       "      <td>music</td>\n",
       "      <td>active</td>\n",
       "    </tr>\n",
       "    <tr>\n",
       "      <th>4</th>\n",
       "      <td>47157.48</td>\n",
       "      <td>59890.00</td>\n",
       "      <td>HU</td>\n",
       "      <td>10</td>\n",
       "      <td>2022-02-04 14:27:43.222198</td>\n",
       "      <td>4362994</td>\n",
       "      <td>2022-02-04</td>\n",
       "      <td>354.4500</td>\n",
       "      <td>eshop</td>\n",
       "      <td>HUF</td>\n",
       "      <td>...</td>\n",
       "      <td>1.0</td>\n",
       "      <td>{3,607,608}</td>\n",
       "      <td>{}</td>\n",
       "      <td>{Music,\"Studio / PA\",\"Studio and Recording\",\"U...</td>\n",
       "      <td>24.0</td>\n",
       "      <td>Focusrite</td>\n",
       "      <td>focusrite</td>\n",
       "      <td>Music</td>\n",
       "      <td>music</td>\n",
       "      <td>active</td>\n",
       "    </tr>\n",
       "  </tbody>\n",
       "</table>\n",
       "<p>5 rows × 56 columns</p>\n",
       "</div>"
      ],
      "text/plain": [
       "   order_price_without_vat  order_price_with_vat bill_country  \\\n",
       "0                    23.66                 28.15           DE   \n",
       "1                    41.66                 49.99           SK   \n",
       "2                   307.48                365.90           RO   \n",
       "3                   365.55                435.00           RO   \n",
       "4                 47157.48              59890.00           HU   \n",
       "\n",
       "   setting_currency_id                 created_at  shop_basket_id   doc_date  \\\n",
       "0                    6 2020-04-26 19:47:36.799672         1182444 2020-04-26   \n",
       "1                    6 2020-04-26 19:28:05.651524          967031 2020-04-26   \n",
       "2                   13 2020-04-26 19:29:29.317773         1182261 2020-04-26   \n",
       "3                   13 2020-04-26 20:25:06.976207         1172378 2020-04-26   \n",
       "4                   10 2022-02-04 14:27:43.222198         4362994 2022-02-04   \n",
       "\n",
       "   exchange_currency_rate source currency_code  ... catalog_segment_id  \\\n",
       "0                  1.0000  eshop           EUR  ...                3.0   \n",
       "1                  1.0000  eshop           EUR  ...               16.0   \n",
       "2                  4.8555  eshop           RON  ...                1.0   \n",
       "3                  4.8555  eshop           RON  ...                1.0   \n",
       "4                354.4500  eshop           HUF  ...                1.0   \n",
       "\n",
       "   categories_ancestor_ids  categories_descendant_ids  \\\n",
       "0              {1182,1267}                         {}   \n",
       "1                   {3526}                         {}   \n",
       "2              {3,338,372}                         {}   \n",
       "3                    {3,4}                         {}   \n",
       "4              {3,607,608}                         {}   \n",
       "\n",
       "                             category_full_name_path  default_warranty_period  \\\n",
       "0  {Bikes,\"Cycling accessories\",\"Bicycle cleaning...                     24.0   \n",
       "1                 {\"LP platne a CD\",\"Vinyl Records\"}                     24.0   \n",
       "2                 {Music,Drums,Percussions,Darbukas}                     24.0   \n",
       "3      {Music,Guitars,\"Guitar Training Accessories\"}                     24.0   \n",
       "4  {Music,\"Studio / PA\",\"Studio and Recording\",\"U...                     24.0   \n",
       "\n",
       "               brand_name     brand_parameterized  segment_name  \\\n",
       "0                 Shimano                 shimano          Bike   \n",
       "1                Amorphis                amorphis   LPs and CDs   \n",
       "2                   Meinl                   meinl         Music   \n",
       "3  D'Addario Planet Waves  d-addario-planet-waves         Music   \n",
       "4               Focusrite               focusrite         Music   \n",
       "\n",
       "  segment_parameterezied  segment_status  \n",
       "0                   bike          active  \n",
       "1            lps-and-cds        inactive  \n",
       "2                  music          active  \n",
       "3                  music          active  \n",
       "4                  music          active  \n",
       "\n",
       "[5 rows x 56 columns]"
      ]
     },
     "execution_count": 3,
     "metadata": {},
     "output_type": "execute_result"
    }
   ],
   "source": [
    "data =  pd.read_csv(DATA_PATH, sep=',', parse_dates=['doc_date', 'created_at'], low_memory=False)\n",
    "data.head()"
   ]
  },
  {
   "cell_type": "code",
   "execution_count": 4,
   "id": "4e1e0574-6d9f-4174-affc-05ca51ec7218",
   "metadata": {},
   "outputs": [
    {
     "data": {
      "text/html": [
       "<div>\n",
       "<style scoped>\n",
       "    .dataframe tbody tr th:only-of-type {\n",
       "        vertical-align: middle;\n",
       "    }\n",
       "\n",
       "    .dataframe tbody tr th {\n",
       "        vertical-align: top;\n",
       "    }\n",
       "\n",
       "    .dataframe thead th {\n",
       "        text-align: right;\n",
       "    }\n",
       "</style>\n",
       "<table border=\"1\" class=\"dataframe\">\n",
       "  <thead>\n",
       "    <tr style=\"text-align: right;\">\n",
       "      <th></th>\n",
       "      <th>variant_id</th>\n",
       "      <th>category_id</th>\n",
       "      <th>brand_id</th>\n",
       "      <th>status</th>\n",
       "      <th>is_new</th>\n",
       "      <th>reviews_count</th>\n",
       "      <th>reviews_average_score_price</th>\n",
       "      <th>reviews_average_score_quality</th>\n",
       "      <th>reviews_average_score_properties</th>\n",
       "      <th>reviews_average_score_overall</th>\n",
       "      <th>in_sets_count</th>\n",
       "      <th>is_in_stock</th>\n",
       "      <th>is_returnable</th>\n",
       "      <th>purchase_price</th>\n",
       "      <th>eshop_stock_count</th>\n",
       "      <th>country_of_origin_code</th>\n",
       "      <th>name</th>\n",
       "    </tr>\n",
       "  </thead>\n",
       "  <tbody>\n",
       "    <tr>\n",
       "      <th>0</th>\n",
       "      <td>250796</td>\n",
       "      <td>763.0</td>\n",
       "      <td>16.0</td>\n",
       "      <td>active</td>\n",
       "      <td>f</td>\n",
       "      <td>3</td>\n",
       "      <td>100.0</td>\n",
       "      <td>100.0</td>\n",
       "      <td>100.0</td>\n",
       "      <td>100.0</td>\n",
       "      <td>0</td>\n",
       "      <td>t</td>\n",
       "      <td>t</td>\n",
       "      <td>3.41575</td>\n",
       "      <td>40.0</td>\n",
       "      <td>CN</td>\n",
       "      <td>BSMC300</td>\n",
       "    </tr>\n",
       "    <tr>\n",
       "      <th>1</th>\n",
       "      <td>347982</td>\n",
       "      <td>3523.0</td>\n",
       "      <td>7754.0</td>\n",
       "      <td>active</td>\n",
       "      <td>t</td>\n",
       "      <td>0</td>\n",
       "      <td>0.0</td>\n",
       "      <td>0.0</td>\n",
       "      <td>0.0</td>\n",
       "      <td>0.0</td>\n",
       "      <td>0</td>\n",
       "      <td>f</td>\n",
       "      <td>t</td>\n",
       "      <td>82.59000</td>\n",
       "      <td>0.0</td>\n",
       "      <td>US</td>\n",
       "      <td>Regulus LV Red/Black 38</td>\n",
       "    </tr>\n",
       "    <tr>\n",
       "      <th>2</th>\n",
       "      <td>241059</td>\n",
       "      <td>2955.0</td>\n",
       "      <td>164.0</td>\n",
       "      <td>active</td>\n",
       "      <td>f</td>\n",
       "      <td>0</td>\n",
       "      <td>0.0</td>\n",
       "      <td>0.0</td>\n",
       "      <td>0.0</td>\n",
       "      <td>0.0</td>\n",
       "      <td>0</td>\n",
       "      <td>t</td>\n",
       "      <td>t</td>\n",
       "      <td>151.96000</td>\n",
       "      <td>2.0</td>\n",
       "      <td>CN</td>\n",
       "      <td>Evolve 30 - Case</td>\n",
       "    </tr>\n",
       "    <tr>\n",
       "      <th>3</th>\n",
       "      <td>4908</td>\n",
       "      <td>300.0</td>\n",
       "      <td>15.0</td>\n",
       "      <td>ended</td>\n",
       "      <td>f</td>\n",
       "      <td>2</td>\n",
       "      <td>90.0</td>\n",
       "      <td>100.0</td>\n",
       "      <td>80.0</td>\n",
       "      <td>0.0</td>\n",
       "      <td>0</td>\n",
       "      <td>f</td>\n",
       "      <td>t</td>\n",
       "      <td>NaN</td>\n",
       "      <td>0.0</td>\n",
       "      <td>NaN</td>\n",
       "      <td>RD-300SX</td>\n",
       "    </tr>\n",
       "    <tr>\n",
       "      <th>4</th>\n",
       "      <td>256397</td>\n",
       "      <td>1326.0</td>\n",
       "      <td>1576.0</td>\n",
       "      <td>active</td>\n",
       "      <td>f</td>\n",
       "      <td>0</td>\n",
       "      <td>0.0</td>\n",
       "      <td>0.0</td>\n",
       "      <td>0.0</td>\n",
       "      <td>0.0</td>\n",
       "      <td>0</td>\n",
       "      <td>f</td>\n",
       "      <td>t</td>\n",
       "      <td>67.80000</td>\n",
       "      <td>0.0</td>\n",
       "      <td>VN</td>\n",
       "      <td>Sirio 84 Black/White 295</td>\n",
       "    </tr>\n",
       "  </tbody>\n",
       "</table>\n",
       "</div>"
      ],
      "text/plain": [
       "   variant_id  category_id  brand_id  status is_new  reviews_count  \\\n",
       "0      250796        763.0      16.0  active      f              3   \n",
       "1      347982       3523.0    7754.0  active      t              0   \n",
       "2      241059       2955.0     164.0  active      f              0   \n",
       "3        4908        300.0      15.0   ended      f              2   \n",
       "4      256397       1326.0    1576.0  active      f              0   \n",
       "\n",
       "   reviews_average_score_price  reviews_average_score_quality  \\\n",
       "0                        100.0                          100.0   \n",
       "1                          0.0                            0.0   \n",
       "2                          0.0                            0.0   \n",
       "3                         90.0                          100.0   \n",
       "4                          0.0                            0.0   \n",
       "\n",
       "   reviews_average_score_properties  reviews_average_score_overall  \\\n",
       "0                             100.0                          100.0   \n",
       "1                               0.0                            0.0   \n",
       "2                               0.0                            0.0   \n",
       "3                              80.0                            0.0   \n",
       "4                               0.0                            0.0   \n",
       "\n",
       "   in_sets_count is_in_stock is_returnable  purchase_price  eshop_stock_count  \\\n",
       "0              0           t             t         3.41575               40.0   \n",
       "1              0           f             t        82.59000                0.0   \n",
       "2              0           t             t       151.96000                2.0   \n",
       "3              0           f             t             NaN                0.0   \n",
       "4              0           f             t        67.80000                0.0   \n",
       "\n",
       "  country_of_origin_code                      name  \n",
       "0                     CN                   BSMC300  \n",
       "1                     US   Regulus LV Red/Black 38  \n",
       "2                     CN          Evolve 30 - Case  \n",
       "3                    NaN                  RD-300SX  \n",
       "4                     VN  Sirio 84 Black/White 295  "
      ]
     },
     "execution_count": 4,
     "metadata": {},
     "output_type": "execute_result"
    }
   ],
   "source": [
    "products = pd.read_csv(PRODUCTS_PATH, sep=',')\n",
    "products.head()"
   ]
  },
  {
   "cell_type": "code",
   "execution_count": 5,
   "id": "02422f5f-0e83-4eb3-abd2-70c559766cdd",
   "metadata": {},
   "outputs": [
    {
     "data": {
      "text/plain": [
       "order_price_without_vat                               float64\n",
       "order_price_with_vat                                  float64\n",
       "bill_country                                           object\n",
       "setting_currency_id                                     int64\n",
       "created_at                                     datetime64[ns]\n",
       "shop_basket_id                                          int64\n",
       "doc_date                                       datetime64[ns]\n",
       "exchange_currency_rate                                float64\n",
       "source                                                 object\n",
       "currency_code                                          object\n",
       "currency_symbol                                        object\n",
       "price_round_system                                      int64\n",
       "basket_total_price_before_discount_with_vat           float64\n",
       "basket_total_price_with_vat                           float64\n",
       "count_basket_items                                      int64\n",
       "basket_count_products                                   int64\n",
       "basket_type                                            object\n",
       "item_quantity                                           int64\n",
       "item_type                                              object\n",
       "item_unit_price_with_vat                              float64\n",
       "item_unit_price_without_vat                           float64\n",
       "item_total_discount_with_vat                          float64\n",
       "product_id                                              int64\n",
       "product_code                                            int64\n",
       "catalog_category_id                                   float64\n",
       "catalog_brand_id                                        int64\n",
       "product_name                                           object\n",
       "product_status                                         object\n",
       "reviews_count                                           int64\n",
       "reviews_average_score_price                           float64\n",
       "reviews_average_score_quality                         float64\n",
       "reviews_average_score_properties                      float64\n",
       "reviews_average_score_overall                         float64\n",
       "reviews_average_score                                 float64\n",
       "is_in_stock                                            object\n",
       "is_ended                                               object\n",
       "is_new                                                 object\n",
       "is_boosted                                             object\n",
       "product_purchase_price                                float64\n",
       "eshop_stock_count                                     float64\n",
       "is_fifo                                                object\n",
       "product_name_parameterize                              object\n",
       "category                                               object\n",
       "tree_path                                              object\n",
       "category_name_parameterized                            object\n",
       "category_status                                        object\n",
       "catalog_segment_id                                    float64\n",
       "categories_ancestor_ids                                object\n",
       "categories_descendant_ids                              object\n",
       "category_full_name_path                                object\n",
       "default_warranty_period                               float64\n",
       "brand_name                                             object\n",
       "brand_parameterized                                    object\n",
       "segment_name                                           object\n",
       "segment_parameterezied                                 object\n",
       "segment_status                                         object\n",
       "dtype: object"
      ]
     },
     "execution_count": 5,
     "metadata": {},
     "output_type": "execute_result"
    }
   ],
   "source": [
    "data.dtypes"
   ]
  },
  {
   "cell_type": "code",
   "execution_count": 6,
   "id": "bf859c29-5698-43f8-87d5-d197517deca6",
   "metadata": {},
   "outputs": [
    {
     "data": {
      "text/plain": [
       "variant_id                            int64\n",
       "category_id                         float64\n",
       "brand_id                            float64\n",
       "status                               object\n",
       "is_new                               object\n",
       "reviews_count                         int64\n",
       "reviews_average_score_price         float64\n",
       "reviews_average_score_quality       float64\n",
       "reviews_average_score_properties    float64\n",
       "reviews_average_score_overall       float64\n",
       "in_sets_count                         int64\n",
       "is_in_stock                          object\n",
       "is_returnable                        object\n",
       "purchase_price                      float64\n",
       "eshop_stock_count                   float64\n",
       "country_of_origin_code               object\n",
       "name                                 object\n",
       "dtype: object"
      ]
     },
     "execution_count": 6,
     "metadata": {},
     "output_type": "execute_result"
    }
   ],
   "source": [
    "products.dtypes"
   ]
  },
  {
   "cell_type": "code",
   "execution_count": 7,
   "id": "23d45742-ad8a-46e4-a3a5-ea0c0b476d34",
   "metadata": {},
   "outputs": [
    {
     "data": {
      "text/plain": [
       "(3659150, 56)"
      ]
     },
     "execution_count": 7,
     "metadata": {},
     "output_type": "execute_result"
    }
   ],
   "source": [
    "data.shape"
   ]
  },
  {
   "cell_type": "code",
   "execution_count": 8,
   "id": "6610c959-3917-4f9d-a3c7-ae1e392d13af",
   "metadata": {},
   "outputs": [
    {
     "data": {
      "text/plain": [
       "(351551, 17)"
      ]
     },
     "execution_count": 8,
     "metadata": {},
     "output_type": "execute_result"
    }
   ],
   "source": [
    "products.shape"
   ]
  },
  {
   "cell_type": "code",
   "execution_count": 9,
   "id": "4d255ace-f9a6-413a-8ff3-91e7a1a0714f",
   "metadata": {},
   "outputs": [
    {
     "data": {
      "text/plain": [
       "array(['standard', 'express_checkout', 'internal'], dtype=object)"
      ]
     },
     "execution_count": 9,
     "metadata": {},
     "output_type": "execute_result"
    }
   ],
   "source": [
    "data.basket_type.unique()"
   ]
  },
  {
   "cell_type": "code",
   "execution_count": 10,
   "id": "7ddae64a-4c64-40a9-9876-b222c0998903",
   "metadata": {},
   "outputs": [
    {
     "data": {
      "text/plain": [
       "order_price_without_vat                            0\n",
       "order_price_with_vat                               0\n",
       "bill_country                                       0\n",
       "setting_currency_id                                0\n",
       "created_at                                         0\n",
       "shop_basket_id                                     0\n",
       "doc_date                                          68\n",
       "exchange_currency_rate                             0\n",
       "source                                             0\n",
       "currency_code                                      0\n",
       "currency_symbol                                    0\n",
       "price_round_system                                 0\n",
       "basket_total_price_before_discount_with_vat        0\n",
       "basket_total_price_with_vat                        0\n",
       "count_basket_items                                 0\n",
       "basket_count_products                              0\n",
       "basket_type                                        0\n",
       "item_quantity                                      0\n",
       "item_type                                          0\n",
       "item_unit_price_with_vat                           0\n",
       "item_unit_price_without_vat                        0\n",
       "item_total_discount_with_vat                       0\n",
       "product_id                                         0\n",
       "product_code                                       0\n",
       "catalog_category_id                            26884\n",
       "catalog_brand_id                                   0\n",
       "product_name                                       0\n",
       "product_status                                     0\n",
       "reviews_count                                      0\n",
       "reviews_average_score_price                        0\n",
       "reviews_average_score_quality                      0\n",
       "reviews_average_score_properties                   0\n",
       "reviews_average_score_overall                      0\n",
       "reviews_average_score                              0\n",
       "is_in_stock                                        0\n",
       "is_ended                                          13\n",
       "is_new                                             0\n",
       "is_boosted                                         0\n",
       "product_purchase_price                         28428\n",
       "eshop_stock_count                                  0\n",
       "is_fifo                                            0\n",
       "product_name_parameterize                          0\n",
       "category                                       26884\n",
       "tree_path                                      26884\n",
       "category_name_parameterized                    26884\n",
       "category_status                                26884\n",
       "catalog_segment_id                             26884\n",
       "categories_ancestor_ids                        26884\n",
       "categories_descendant_ids                      26884\n",
       "category_full_name_path                        26884\n",
       "default_warranty_period                        26884\n",
       "brand_name                                         0\n",
       "brand_parameterized                                0\n",
       "segment_name                                   26884\n",
       "segment_parameterezied                         26884\n",
       "segment_status                                 26884\n",
       "dtype: int64"
      ]
     },
     "execution_count": 10,
     "metadata": {},
     "output_type": "execute_result"
    }
   ],
   "source": [
    "data.isnull().sum()"
   ]
  },
  {
   "cell_type": "code",
   "execution_count": 11,
   "id": "bc202809-f7fe-455f-ab5b-65cb87950b88",
   "metadata": {},
   "outputs": [],
   "source": [
    "# Dropping all NaNs from the data dataframe, since they are in important columns\n",
    "data.dropna(inplace=True)"
   ]
  },
  {
   "cell_type": "code",
   "execution_count": 12,
   "id": "99051ebf-010a-4076-bf17-2190fcfaae50",
   "metadata": {},
   "outputs": [
    {
     "data": {
      "text/plain": [
       "variant_id                              0\n",
       "category_id                          7021\n",
       "brand_id                                2\n",
       "status                                  0\n",
       "is_new                                  0\n",
       "reviews_count                           0\n",
       "reviews_average_score_price             0\n",
       "reviews_average_score_quality           0\n",
       "reviews_average_score_properties        0\n",
       "reviews_average_score_overall           0\n",
       "in_sets_count                           0\n",
       "is_in_stock                             0\n",
       "is_returnable                           0\n",
       "purchase_price                      52126\n",
       "eshop_stock_count                       0\n",
       "country_of_origin_code              16052\n",
       "name                                    1\n",
       "dtype: int64"
      ]
     },
     "execution_count": 12,
     "metadata": {},
     "output_type": "execute_result"
    }
   ],
   "source": [
    "products.isnull().sum()"
   ]
  },
  {
   "cell_type": "markdown",
   "id": "13b81eef-0a4e-4f1e-bddb-a245e57c0817",
   "metadata": {},
   "source": [
    "## **Data.csv insights**"
   ]
  },
  {
   "cell_type": "code",
   "execution_count": 13,
   "id": "748d5249-7a9d-43cd-bf7b-26ae45b6db8c",
   "metadata": {},
   "outputs": [],
   "source": [
    "def create_others_value_counts(threshold : float, df : pd.DataFrame, column_name : str) -> pd.Series:\n",
    "    \"\"\"\n",
    "    Function which groups all of the values under threshold into 'others' with preserving of original categories\n",
    "    Args\n",
    "        threshold - float in range <0,1> as a threshold for key to be marked as others (desired percentage / 100)\n",
    "        df - desired DataFrame containing given column\n",
    "        column_name - string with the exact name of a desired Series\n",
    "    Returns\n",
    "        pd.Series - returns Series with the new 'others' group\n",
    "    \"\"\"\n",
    "    \n",
    "    over_thr = df[column_name].value_counts(normalize=True).loc[lambda x : x > threshold]\n",
    "    under_thr = df[column_name].value_counts(normalize=True).loc[lambda x : x <= threshold]\n",
    "    merged_series =  pd.concat([over_thr, pd.Series(under_thr.sum(), index=['others'])])\n",
    "    return merged_series"
   ]
  },
  {
   "cell_type": "code",
   "execution_count": 14,
   "id": "e9d6b2fa-d8ea-47e1-b0ad-eec35fc4cc5a",
   "metadata": {},
   "outputs": [],
   "source": [
    "# Change all prices to EUR so we can easily compare them, this is one time operation \n",
    "non_eur_columns = ['order_price_without_vat', 'order_price_with_vat', 'basket_total_price_before_discount_with_vat', \n",
    "                   'basket_total_price_with_vat', 'item_unit_price_with_vat', 'item_unit_price_without_vat', 'item_total_discount_with_vat']\n",
    "\n",
    "for column_name in non_eur_columns:\n",
    "    data[column_name] =  round(data[column_name] / data.exchange_currency_rate, 2)"
   ]
  },
  {
   "cell_type": "markdown",
   "id": "4a67bd59-f119-40d2-a085-4cc4bcbf66b8",
   "metadata": {},
   "source": [
    "### Shop orders EDA"
   ]
  },
  {
   "cell_type": "code",
   "execution_count": 25,
   "id": "f16e3120-3d53-4778-8ac3-7fe779f347ce",
   "metadata": {},
   "outputs": [
    {
     "name": "stdout",
     "output_type": "stream",
     "text": [
      "Median order price with vat 556.08 €\n",
      "Mean order price with vat 101.02 €\n"
     ]
    },
    {
     "data": {
      "text/plain": [
       "<AxesSubplot:xlabel='order_price_with_vat', ylabel='Count'>"
      ]
     },
     "execution_count": 25,
     "metadata": {},
     "output_type": "execute_result"
    },
    {
     "data": {
      "image/png": "[encoded data removed]",
      "text/plain": [
       "<Figure size 960x640 with 1 Axes>"
      ]
     },
     "metadata": {
      "needs_background": "light"
     },
     "output_type": "display_data"
    }
   ],
   "source": [
    "print(f'Median order price with vat {round(data.order_price_with_vat.mean(), 2)} €')\n",
    "print(f'Mean order price with vat {round(data.order_price_with_vat.median(), 2)} €')\n",
    "sns.histplot(data.order_price_with_vat, bins=[0,1])"
   ]
  },
  {
   "cell_type": "code",
   "execution_count": 16,
   "id": "2804e0df-e537-46ee-ab68-27f316ee1187",
   "metadata": {},
   "outputs": [
    {
     "data": {
      "text/plain": [
       "'\\nso.price_without_vat AS order_price_without_vat,  asi nebudem robit, spravim len pre with vat\\nso.price_with_vat AS order_price_with_vat,\\nso.bill_country,\\nso.setting_currency_id,\\nso.created_at,\\nso.shop_basket_id,\\nso.doc_date,\\nso.exchange_currency_rate,\\nso.source_type AS source,\\n'"
      ]
     },
     "execution_count": 16,
     "metadata": {},
     "output_type": "execute_result"
    }
   ],
   "source": [
    "    \"\"\"\n",
    "    so.price_without_vat AS order_price_without_vat,  asi nebudem robit, spravim len pre with vat\n",
    "    so.price_with_vat AS order_price_with_vat,\n",
    "    so.bill_country,\n",
    "    so.setting_currency_id,\n",
    "    so.created_at,\n",
    "    so.shop_basket_id,\n",
    "    so.doc_date,\n",
    "    so.exchange_currency_rate,\n",
    "    so.source_type AS source,\n",
    "    \"\"\""
   ]
  },
  {
   "cell_type": "code",
   "execution_count": 17,
   "id": "3f2e0dff-75f3-4f8e-b586-45d9bf907aab",
   "metadata": {},
   "outputs": [
    {
     "data": {
      "text/plain": [
       "['order_price_without_vat',\n",
       " 'order_price_with_vat',\n",
       " 'setting_currency_id',\n",
       " 'created_at',\n",
       " 'shop_basket_id',\n",
       " 'doc_date',\n",
       " 'exchange_currency_rate',\n",
       " 'source',\n",
       " 'currency_code',\n",
       " 'currency_symbol',\n",
       " 'price_round_system',\n",
       " 'basket_total_price_before_discount_with_vat',\n",
       " 'basket_total_price_with_vat',\n",
       " 'count_basket_items',\n",
       " 'basket_count_products',\n",
       " 'basket_type',\n",
       " 'item_quantity',\n",
       " 'item_type',\n",
       " 'item_unit_price_with_vat',\n",
       " 'item_unit_price_without_vat',\n",
       " 'item_total_discount_with_vat',\n",
       " 'product_id',\n",
       " 'product_code',\n",
       " 'catalog_category_id',\n",
       " 'catalog_brand_id',\n",
       " 'product_name',\n",
       " 'product_status',\n",
       " 'reviews_count',\n",
       " 'reviews_average_score_price',\n",
       " 'reviews_average_score_quality',\n",
       " 'reviews_average_score_properties',\n",
       " 'reviews_average_score_overall',\n",
       " 'reviews_average_score',\n",
       " 'is_in_stock',\n",
       " 'is_ended',\n",
       " 'is_new',\n",
       " 'is_boosted',\n",
       " 'product_purchase_price',\n",
       " 'eshop_stock_count',\n",
       " 'is_fifo',\n",
       " 'product_name_parameterize',\n",
       " 'category',\n",
       " 'tree_path',\n",
       " 'category_name_parameterized',\n",
       " 'category_status',\n",
       " 'catalog_segment_id',\n",
       " 'categories_ancestor_ids',\n",
       " 'categories_descendant_ids',\n",
       " 'category_full_name_path',\n",
       " 'default_warranty_period',\n",
       " 'brand_parameterized',\n",
       " 'segment_name',\n",
       " 'segment_parameterezied',\n",
       " 'segment_status']"
      ]
     },
     "execution_count": 17,
     "metadata": {},
     "output_type": "execute_result"
    }
   ],
   "source": [
    "TODO = list(data.columns)\n",
    "TODO.remove('bill_country')\n",
    "TODO.remove('brand_name')\n",
    "TODO"
   ]
  },
  {
   "cell_type": "code",
   "execution_count": 18,
   "id": "d632b64c-84d2-474d-bede-dc75430af79f",
   "metadata": {},
   "outputs": [
    {
     "name": "stdout",
     "output_type": "stream",
     "text": [
      "Muziker                          375479\n",
      "Fender                           149106\n",
      "Dunlop                           103696\n",
      "Soundking                         80601\n",
      "Behringer                         64434\n",
      "                                  ...  \n",
      "Great News                            1\n",
      "Elevators To The Grateful Sky         1\n",
      "Toledo Steel                          1\n",
      "Avalanche Party                       1\n",
      "Joe Beard                             1\n",
      "Name: brand_name, Length: 5368, dtype: int64\n"
     ]
    }
   ],
   "source": [
    "# calculate how many brands there are as well as the most common\n",
    "print(data.brand_name.value_counts())"
   ]
  },
  {
   "cell_type": "code",
   "execution_count": 19,
   "id": "5466bd1a-fe21-4f48-95c2-a8b865e5f82a",
   "metadata": {},
   "outputs": [],
   "source": [
    "plt.rcParams['figure.figsize'] = (12, 8)\n",
    "plt.rcParams['figure.dpi'] = 80\n",
    "plt.rcParams['axes.facecolor'] = 'FFFFFF'\n",
    "plt.rcParams['legend.facecolor'] = 'FFFFFF'\n",
    "plt.rcParams['patch.facecolor'] = 'FFFFFF'\n",
    "# figure().patch.set_facecolor('white')"
   ]
  },
  {
   "cell_type": "code",
   "execution_count": 20,
   "id": "f2b352cb-1056-421d-9ec6-48acd759582c",
   "metadata": {},
   "outputs": [
    {
     "data": {
      "image/png": "[encoded data removed]",
      "text/plain": [
       "<Figure size 960x640 with 1 Axes>"
      ]
     },
     "metadata": {
      "needs_background": "light"
     },
     "output_type": "display_data"
    }
   ],
   "source": [
    "counted_countries = create_others_value_counts(0.01, data, 'brand_name') \n",
    "counted_countries.plot(kind='barh', title='Brand names distribution')\n",
    "plt.show()"
   ]
  },
  {
   "cell_type": "markdown",
   "id": "acf24f6f-4de9-4632-8d77-d7700c28a6e6",
   "metadata": {},
   "source": [
    "As we can see above, there is HUGE variety of brands in products (3185) with only 12 of them having more than 1% of products."
   ]
  },
  {
   "cell_type": "markdown",
   "id": "b7375017-4365-4345-9a13-2563d4cd4b6d",
   "metadata": {},
   "source": [
    "Percentage of bill countries, with the threshold of 0.5% to be shown as bill country of an order."
   ]
  },
  {
   "cell_type": "code",
   "execution_count": 21,
   "id": "06939af7-33cd-4967-9c69-4466bb36f12d",
   "metadata": {},
   "outputs": [
    {
     "name": "stdout",
     "output_type": "stream",
     "text": [
      "Bill countries in data: ['DE' 'SK' 'RO' 'HU' 'GB' 'PL' 'CZ' 'HR' 'BE' 'PT' 'FR' 'IT' 'BG' 'AT'\n",
      " 'SI' 'ES' 'SE' 'DK' 'EL' 'NL' 'IE' 'FI' 'LU' 'LV' 'EE' 'LT' 'CH' 'GR'\n",
      " 'TR' 'BA' 'UA' 'RS'].\n",
      " That is 32 countries as bill countries.\n"
     ]
    },
    {
     "data": {
      "image/png": "[encoded data removed]",
      "text/plain": [
       "<Figure size 960x640 with 1 Axes>"
      ]
     },
     "metadata": {},
     "output_type": "display_data"
    }
   ],
   "source": [
    "print(f'Bill countries in data: {data.bill_country.unique()}.\\n That is {len(data.bill_country.unique())} countries as bill countries.')\n",
    "\n",
    "figure().patch.set_facecolor('white')\n",
    "counted_countries = create_others_value_counts(0.005, data, 'bill_country') \n",
    "counted_countries.plot(kind='bar', title='Bill countires')\n",
    "plt.show()"
   ]
  },
  {
   "cell_type": "code",
   "execution_count": 22,
   "id": "f37ff393-f6ef-4f23-aff3-4368329b807d",
   "metadata": {},
   "outputs": [
    {
     "data": {
      "image/png": "[encoded data removed]",
      "text/plain": [
       "<Figure size 960x640 with 1 Axes>"
      ]
     },
     "metadata": {},
     "output_type": "display_data"
    }
   ],
   "source": [
    "figure().patch.set_facecolor('white')\n",
    "data.is_in_stock.value_counts().plot(kind='pie', title='Rh factors distribution', autopct='%1.1f%%')\n",
    "plt.show()"
   ]
  },
  {
   "cell_type": "code",
   "execution_count": 23,
   "id": "ecf63a80-e6bf-4f36-910e-54d48cabacd9",
   "metadata": {},
   "outputs": [
    {
     "data": {
      "text/plain": [
       "'\\nTODO preratat sumy na Eura vsade, zaokruhlit\\n\\n\\n'"
      ]
     },
     "execution_count": 23,
     "metadata": {},
     "output_type": "execute_result"
    }
   ],
   "source": [
    "\"\"\"\n",
    "TODO preratat sumy na Eura vsade, zaokruhlit\n",
    "\n",
    "\n",
    "\"\"\""
   ]
  },
  {
   "cell_type": "code",
   "execution_count": 24,
   "id": "ac594cc0-a941-44b1-86ea-1c029911a380",
   "metadata": {},
   "outputs": [
    {
     "data": {
      "text/plain": [
       "'\\nPoznamky\\n\\nKosiky sa pouzivaju len pri novom eshope. Na data o starom eshope pouzivam invoices - iba pre typ old eshop. To potom zlucujem dokopy.\\n\\n'"
      ]
     },
     "execution_count": 24,
     "metadata": {},
     "output_type": "execute_result"
    }
   ],
   "source": [
    "\"\"\"\n",
    "Poznamky\n",
    "\n",
    "Kosiky sa pouzivaju len pri novom eshope. Na data o starom eshope pouzivam invoices - iba pre typ old eshop. To potom zlucujem dokopy.\n",
    "\n",
    "\"\"\""
   ]
  }
 ],
 "metadata": {
  "kernelspec": {
   "display_name": "Python 3",
   "language": "python",
   "name": "python3"
  },
  "language_info": {
   "codemirror_mode": {
    "name": "ipython",
    "version": 3
   },
   "file_extension": ".py",
   "mimetype": "text/x-python",
   "name": "python",
   "nbconvert_exporter": "python",
   "pygments_lexer": "ipython3",
   "version": "3.8.10"
  }
 },
 "nbformat": 4,
 "nbformat_minor": 5
}
