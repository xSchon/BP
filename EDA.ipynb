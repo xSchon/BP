{
 "cells": [
  {
   "cell_type": "code",
   "execution_count": 37,
   "id": "136a2c77-ae69-4374-b02c-0edfc4c3198d",
   "metadata": {},
   "outputs": [],
   "source": [
    "import pandas as pd\n",
    "import matplotlib.pyplot as plt\n",
    "from matplotlib.pyplot import figure\n",
    "import numpy as np\n",
    "import seaborn as sns"
   ]
  },
  {
   "cell_type": "code",
   "execution_count": 2,
   "id": "d5d30392-0d95-46d9-8839-e54b41329bab",
   "metadata": {},
   "outputs": [],
   "source": [
    "DATA_PATH = 'data/data.csv'\n",
    "PRODUCTS_PATH = 'data/products.csv'"
   ]
  },
  {
   "cell_type": "code",
   "execution_count": 3,
   "id": "7ee03399-061b-4b14-ba18-195f3b109b15",
   "metadata": {},
   "outputs": [
    {
     "data": {
      "text/html": [
       "<div>\n",
       "<style scoped>\n",
       "    .dataframe tbody tr th:only-of-type {\n",
       "        vertical-align: middle;\n",
       "    }\n",
       "\n",
       "    .dataframe tbody tr th {\n",
       "        vertical-align: top;\n",
       "    }\n",
       "\n",
       "    .dataframe thead th {\n",
       "        text-align: right;\n",
       "    }\n",
       "</style>\n",
       "<table border=\"1\" class=\"dataframe\">\n",
       "  <thead>\n",
       "    <tr style=\"text-align: right;\">\n",
       "      <th></th>\n",
       "      <th>order_price_without_vat</th>\n",
       "      <th>order_price_with_vat</th>\n",
       "      <th>bill_country</th>\n",
       "      <th>setting_currency_id</th>\n",
       "      <th>created_at</th>\n",
       "      <th>shop_basket_id</th>\n",
       "      <th>doc_date</th>\n",
       "      <th>exchange_currency_rate</th>\n",
       "      <th>source</th>\n",
       "      <th>currency_code</th>\n",
       "      <th>...</th>\n",
       "      <th>catalog_segment_id</th>\n",
       "      <th>categories_ancestor_ids</th>\n",
       "      <th>categories_descendant_ids</th>\n",
       "      <th>category_full_name_path</th>\n",
       "      <th>default_warranty_period</th>\n",
       "      <th>brand_name</th>\n",
       "      <th>brand_parameterized</th>\n",
       "      <th>segment_name</th>\n",
       "      <th>segment_parameterezied</th>\n",
       "      <th>segment_status</th>\n",
       "    </tr>\n",
       "  </thead>\n",
       "  <tbody>\n",
       "    <tr>\n",
       "      <th>0</th>\n",
       "      <td>32724.41</td>\n",
       "      <td>41560.00</td>\n",
       "      <td>HU</td>\n",
       "      <td>10</td>\n",
       "      <td>2020-04-26 19:25:42.059702</td>\n",
       "      <td>812554</td>\n",
       "      <td>2020-04-26</td>\n",
       "      <td>359.9200</td>\n",
       "      <td>eshop</td>\n",
       "      <td>HUF</td>\n",
       "      <td>...</td>\n",
       "      <td>13.0</td>\n",
       "      <td>{1,2014}</td>\n",
       "      <td>{}</td>\n",
       "      <td>{\"Muziker Merch\",\"Merch - Miscellaneous\"}</td>\n",
       "      <td>24.0</td>\n",
       "      <td>Muziker</td>\n",
       "      <td>muziker</td>\n",
       "      <td>General</td>\n",
       "      <td>general</td>\n",
       "      <td>inactive</td>\n",
       "    </tr>\n",
       "    <tr>\n",
       "      <th>1</th>\n",
       "      <td>28.52</td>\n",
       "      <td>34.79</td>\n",
       "      <td>IT</td>\n",
       "      <td>6</td>\n",
       "      <td>2020-04-26 19:26:32.223119</td>\n",
       "      <td>1182415</td>\n",
       "      <td>2020-04-26</td>\n",
       "      <td>1.0000</td>\n",
       "      <td>eshop</td>\n",
       "      <td>EUR</td>\n",
       "      <td>...</td>\n",
       "      <td>13.0</td>\n",
       "      <td>{1,2014}</td>\n",
       "      <td>{}</td>\n",
       "      <td>{\"Muziker Merch\",\"Merch - Miscellaneous\"}</td>\n",
       "      <td>24.0</td>\n",
       "      <td>Muziker</td>\n",
       "      <td>muziker</td>\n",
       "      <td>General</td>\n",
       "      <td>general</td>\n",
       "      <td>inactive</td>\n",
       "    </tr>\n",
       "    <tr>\n",
       "      <th>2</th>\n",
       "      <td>929.41</td>\n",
       "      <td>1106.00</td>\n",
       "      <td>RO</td>\n",
       "      <td>13</td>\n",
       "      <td>2022-02-03 13:56:28.395746</td>\n",
       "      <td>4358127</td>\n",
       "      <td>2022-02-03</td>\n",
       "      <td>4.9463</td>\n",
       "      <td>eshop</td>\n",
       "      <td>RON</td>\n",
       "      <td>...</td>\n",
       "      <td>4.0</td>\n",
       "      <td>{1327,1572,1580}</td>\n",
       "      <td>{}</td>\n",
       "      <td>{Boats,\"Paint / Care / Tools\",\"Cleaning / Care...</td>\n",
       "      <td>24.0</td>\n",
       "      <td>Star Brite</td>\n",
       "      <td>star-brite</td>\n",
       "      <td>Boats</td>\n",
       "      <td>boats</td>\n",
       "      <td>active</td>\n",
       "    </tr>\n",
       "    <tr>\n",
       "      <th>3</th>\n",
       "      <td>125.33</td>\n",
       "      <td>150.39</td>\n",
       "      <td>SK</td>\n",
       "      <td>6</td>\n",
       "      <td>2020-04-26 19:24:18.330764</td>\n",
       "      <td>1173713</td>\n",
       "      <td>2020-04-26</td>\n",
       "      <td>1.0000</td>\n",
       "      <td>eshop</td>\n",
       "      <td>EUR</td>\n",
       "      <td>...</td>\n",
       "      <td>1.0</td>\n",
       "      <td>{3,4,5}</td>\n",
       "      <td>{}</td>\n",
       "      <td>{Music,Guitars,\"Electric Guitars\",ST-Type}</td>\n",
       "      <td>24.0</td>\n",
       "      <td>ABX</td>\n",
       "      <td>abx</td>\n",
       "      <td>Music</td>\n",
       "      <td>music</td>\n",
       "      <td>active</td>\n",
       "    </tr>\n",
       "    <tr>\n",
       "      <th>4</th>\n",
       "      <td>20.58</td>\n",
       "      <td>24.70</td>\n",
       "      <td>FR</td>\n",
       "      <td>6</td>\n",
       "      <td>2020-04-26 19:17:46.399952</td>\n",
       "      <td>1182405</td>\n",
       "      <td>2020-04-26</td>\n",
       "      <td>1.0000</td>\n",
       "      <td>eshop</td>\n",
       "      <td>EUR</td>\n",
       "      <td>...</td>\n",
       "      <td>1.0</td>\n",
       "      <td>{3,4,5}</td>\n",
       "      <td>{}</td>\n",
       "      <td>{Music,Guitars,\"Electric Guitars\",\"Hard &amp; Heavy\"}</td>\n",
       "      <td>24.0</td>\n",
       "      <td>Jackson</td>\n",
       "      <td>jackson</td>\n",
       "      <td>Music</td>\n",
       "      <td>music</td>\n",
       "      <td>active</td>\n",
       "    </tr>\n",
       "  </tbody>\n",
       "</table>\n",
       "<p>5 rows × 56 columns</p>\n",
       "</div>"
      ],
      "text/plain": [
       "   order_price_without_vat  order_price_with_vat bill_country  \\\n",
       "0                 32724.41              41560.00           HU   \n",
       "1                    28.52                 34.79           IT   \n",
       "2                   929.41               1106.00           RO   \n",
       "3                   125.33                150.39           SK   \n",
       "4                    20.58                 24.70           FR   \n",
       "\n",
       "   setting_currency_id                 created_at  shop_basket_id   doc_date  \\\n",
       "0                   10 2020-04-26 19:25:42.059702          812554 2020-04-26   \n",
       "1                    6 2020-04-26 19:26:32.223119         1182415 2020-04-26   \n",
       "2                   13 2022-02-03 13:56:28.395746         4358127 2022-02-03   \n",
       "3                    6 2020-04-26 19:24:18.330764         1173713 2020-04-26   \n",
       "4                    6 2020-04-26 19:17:46.399952         1182405 2020-04-26   \n",
       "\n",
       "   exchange_currency_rate source currency_code  ... catalog_segment_id  \\\n",
       "0                359.9200  eshop           HUF  ...               13.0   \n",
       "1                  1.0000  eshop           EUR  ...               13.0   \n",
       "2                  4.9463  eshop           RON  ...                4.0   \n",
       "3                  1.0000  eshop           EUR  ...                1.0   \n",
       "4                  1.0000  eshop           EUR  ...                1.0   \n",
       "\n",
       "   categories_ancestor_ids  categories_descendant_ids  \\\n",
       "0                 {1,2014}                         {}   \n",
       "1                 {1,2014}                         {}   \n",
       "2         {1327,1572,1580}                         {}   \n",
       "3                  {3,4,5}                         {}   \n",
       "4                  {3,4,5}                         {}   \n",
       "\n",
       "                             category_full_name_path  default_warranty_period  \\\n",
       "0          {\"Muziker Merch\",\"Merch - Miscellaneous\"}                     24.0   \n",
       "1          {\"Muziker Merch\",\"Merch - Miscellaneous\"}                     24.0   \n",
       "2  {Boats,\"Paint / Care / Tools\",\"Cleaning / Care...                     24.0   \n",
       "3         {Music,Guitars,\"Electric Guitars\",ST-Type}                     24.0   \n",
       "4  {Music,Guitars,\"Electric Guitars\",\"Hard & Heavy\"}                     24.0   \n",
       "\n",
       "   brand_name brand_parameterized  segment_name segment_parameterezied  \\\n",
       "0     Muziker             muziker       General                general   \n",
       "1     Muziker             muziker       General                general   \n",
       "2  Star Brite          star-brite         Boats                  boats   \n",
       "3         ABX                 abx         Music                  music   \n",
       "4     Jackson             jackson         Music                  music   \n",
       "\n",
       "   segment_status  \n",
       "0        inactive  \n",
       "1        inactive  \n",
       "2          active  \n",
       "3          active  \n",
       "4          active  \n",
       "\n",
       "[5 rows x 56 columns]"
      ]
     },
     "execution_count": 3,
     "metadata": {},
     "output_type": "execute_result"
    }
   ],
   "source": [
    "data =  pd.read_csv(DATA_PATH, sep=',', parse_dates=['doc_date', 'created_at'])\n",
    "data.head()"
   ]
  },
  {
   "cell_type": "code",
   "execution_count": 4,
   "id": "4e1e0574-6d9f-4174-affc-05ca51ec7218",
   "metadata": {},
   "outputs": [
    {
     "data": {
      "text/html": [
       "<div>\n",
       "<style scoped>\n",
       "    .dataframe tbody tr th:only-of-type {\n",
       "        vertical-align: middle;\n",
       "    }\n",
       "\n",
       "    .dataframe tbody tr th {\n",
       "        vertical-align: top;\n",
       "    }\n",
       "\n",
       "    .dataframe thead th {\n",
       "        text-align: right;\n",
       "    }\n",
       "</style>\n",
       "<table border=\"1\" class=\"dataframe\">\n",
       "  <thead>\n",
       "    <tr style=\"text-align: right;\">\n",
       "      <th></th>\n",
       "      <th>variant_id</th>\n",
       "      <th>category_id</th>\n",
       "      <th>brand_id</th>\n",
       "      <th>status</th>\n",
       "      <th>is_new</th>\n",
       "      <th>reviews_count</th>\n",
       "      <th>reviews_average_score_price</th>\n",
       "      <th>reviews_average_score_quality</th>\n",
       "      <th>reviews_average_score_properties</th>\n",
       "      <th>reviews_average_score_overall</th>\n",
       "      <th>in_sets_count</th>\n",
       "      <th>is_in_stock</th>\n",
       "      <th>is_returnable</th>\n",
       "      <th>purchase_price</th>\n",
       "      <th>eshop_stock_count</th>\n",
       "      <th>country_of_origin_code</th>\n",
       "      <th>name</th>\n",
       "    </tr>\n",
       "  </thead>\n",
       "  <tbody>\n",
       "    <tr>\n",
       "      <th>0</th>\n",
       "      <td>45528</td>\n",
       "      <td>2759.0</td>\n",
       "      <td>586.0</td>\n",
       "      <td>active</td>\n",
       "      <td>f</td>\n",
       "      <td>0</td>\n",
       "      <td>0.0</td>\n",
       "      <td>0.0</td>\n",
       "      <td>0.0</td>\n",
       "      <td>0.0</td>\n",
       "      <td>0</td>\n",
       "      <td>f</td>\n",
       "      <td>t</td>\n",
       "      <td>2317.000000</td>\n",
       "      <td>0.0</td>\n",
       "      <td>DE</td>\n",
       "      <td>Saphir 41/120/IV/11/5 Green</td>\n",
       "    </tr>\n",
       "    <tr>\n",
       "      <th>1</th>\n",
       "      <td>293638</td>\n",
       "      <td>1138.0</td>\n",
       "      <td>872.0</td>\n",
       "      <td>active</td>\n",
       "      <td>f</td>\n",
       "      <td>1</td>\n",
       "      <td>0.0</td>\n",
       "      <td>0.0</td>\n",
       "      <td>0.0</td>\n",
       "      <td>0.0</td>\n",
       "      <td>0</td>\n",
       "      <td>t</td>\n",
       "      <td>t</td>\n",
       "      <td>28.280000</td>\n",
       "      <td>2.0</td>\n",
       "      <td>CN</td>\n",
       "      <td>Roshe G Junior Golf Shoes Lime US 7Y</td>\n",
       "    </tr>\n",
       "    <tr>\n",
       "      <th>2</th>\n",
       "      <td>211291</td>\n",
       "      <td>2117.0</td>\n",
       "      <td>4959.0</td>\n",
       "      <td>ended</td>\n",
       "      <td>f</td>\n",
       "      <td>0</td>\n",
       "      <td>0.0</td>\n",
       "      <td>0.0</td>\n",
       "      <td>0.0</td>\n",
       "      <td>0.0</td>\n",
       "      <td>0</td>\n",
       "      <td>f</td>\n",
       "      <td>t</td>\n",
       "      <td>1.230000</td>\n",
       "      <td>0.0</td>\n",
       "      <td>CN</td>\n",
       "      <td>Flora 21 Pink</td>\n",
       "    </tr>\n",
       "    <tr>\n",
       "      <th>3</th>\n",
       "      <td>327605</td>\n",
       "      <td>2042.0</td>\n",
       "      <td>2088.0</td>\n",
       "      <td>active</td>\n",
       "      <td>f</td>\n",
       "      <td>0</td>\n",
       "      <td>0.0</td>\n",
       "      <td>0.0</td>\n",
       "      <td>0.0</td>\n",
       "      <td>0.0</td>\n",
       "      <td>0</td>\n",
       "      <td>t</td>\n",
       "      <td>f</td>\n",
       "      <td>15.915556</td>\n",
       "      <td>9.0</td>\n",
       "      <td>DE</td>\n",
       "      <td>Guitar Shop (LP)</td>\n",
       "    </tr>\n",
       "    <tr>\n",
       "      <th>4</th>\n",
       "      <td>243315</td>\n",
       "      <td>2142.0</td>\n",
       "      <td>6525.0</td>\n",
       "      <td>active</td>\n",
       "      <td>f</td>\n",
       "      <td>2</td>\n",
       "      <td>0.0</td>\n",
       "      <td>0.0</td>\n",
       "      <td>0.0</td>\n",
       "      <td>0.0</td>\n",
       "      <td>0</td>\n",
       "      <td>t</td>\n",
       "      <td>t</td>\n",
       "      <td>7.597500</td>\n",
       "      <td>17.0</td>\n",
       "      <td>PT</td>\n",
       "      <td>PC951 9-Speed Chain</td>\n",
       "    </tr>\n",
       "  </tbody>\n",
       "</table>\n",
       "</div>"
      ],
      "text/plain": [
       "   variant_id  category_id  brand_id  status is_new  reviews_count  \\\n",
       "0       45528       2759.0     586.0  active      f              0   \n",
       "1      293638       1138.0     872.0  active      f              1   \n",
       "2      211291       2117.0    4959.0   ended      f              0   \n",
       "3      327605       2042.0    2088.0  active      f              0   \n",
       "4      243315       2142.0    6525.0  active      f              2   \n",
       "\n",
       "   reviews_average_score_price  reviews_average_score_quality  \\\n",
       "0                          0.0                            0.0   \n",
       "1                          0.0                            0.0   \n",
       "2                          0.0                            0.0   \n",
       "3                          0.0                            0.0   \n",
       "4                          0.0                            0.0   \n",
       "\n",
       "   reviews_average_score_properties  reviews_average_score_overall  \\\n",
       "0                               0.0                            0.0   \n",
       "1                               0.0                            0.0   \n",
       "2                               0.0                            0.0   \n",
       "3                               0.0                            0.0   \n",
       "4                               0.0                            0.0   \n",
       "\n",
       "   in_sets_count is_in_stock is_returnable  purchase_price  eshop_stock_count  \\\n",
       "0              0           f             t     2317.000000                0.0   \n",
       "1              0           t             t       28.280000                2.0   \n",
       "2              0           f             t        1.230000                0.0   \n",
       "3              0           t             f       15.915556                9.0   \n",
       "4              0           t             t        7.597500               17.0   \n",
       "\n",
       "  country_of_origin_code                                  name  \n",
       "0                     DE           Saphir 41/120/IV/11/5 Green  \n",
       "1                     CN  Roshe G Junior Golf Shoes Lime US 7Y  \n",
       "2                     CN                         Flora 21 Pink  \n",
       "3                     DE                      Guitar Shop (LP)  \n",
       "4                     PT                   PC951 9-Speed Chain  "
      ]
     },
     "execution_count": 4,
     "metadata": {},
     "output_type": "execute_result"
    }
   ],
   "source": [
    "products = pd.read_csv(PRODUCTS_PATH, sep=',')\n",
    "products.head()"
   ]
  },
  {
   "cell_type": "code",
   "execution_count": 5,
   "id": "02422f5f-0e83-4eb3-abd2-70c559766cdd",
   "metadata": {},
   "outputs": [
    {
     "data": {
      "text/plain": [
       "order_price_without_vat                               float64\n",
       "order_price_with_vat                                  float64\n",
       "bill_country                                           object\n",
       "setting_currency_id                                     int64\n",
       "created_at                                     datetime64[ns]\n",
       "shop_basket_id                                          int64\n",
       "doc_date                                       datetime64[ns]\n",
       "exchange_currency_rate                                float64\n",
       "source                                                 object\n",
       "currency_code                                          object\n",
       "currency_symbol                                        object\n",
       "price_round_system                                      int64\n",
       "basket_total_price_before_discount_with_vat           float64\n",
       "basket_total_price_with_vat                           float64\n",
       "count_basket_items                                      int64\n",
       "basket_count_products                                   int64\n",
       "basket_type                                            object\n",
       "item_quantity                                           int64\n",
       "item_type                                              object\n",
       "item_unit_price_with_vat                              float64\n",
       "item_unit_price_without_vat                           float64\n",
       "item_total_discount_with_vat                          float64\n",
       "product_id                                              int64\n",
       "product_code                                            int64\n",
       "catalog_category_id                                   float64\n",
       "catalog_brand_id                                        int64\n",
       "product_name                                           object\n",
       "product_status                                         object\n",
       "reviews_count                                           int64\n",
       "reviews_average_score_price                           float64\n",
       "reviews_average_score_quality                         float64\n",
       "reviews_average_score_properties                      float64\n",
       "reviews_average_score_overall                         float64\n",
       "reviews_average_score                                 float64\n",
       "is_in_stock                                            object\n",
       "is_ended                                               object\n",
       "is_new                                                 object\n",
       "is_boosted                                             object\n",
       "product_purchase_price                                float64\n",
       "eshop_stock_count                                     float64\n",
       "is_fifo                                                object\n",
       "product_name_parameterize                              object\n",
       "category                                               object\n",
       "tree_path                                              object\n",
       "category_name_parameterized                            object\n",
       "category_status                                        object\n",
       "catalog_segment_id                                    float64\n",
       "categories_ancestor_ids                                object\n",
       "categories_descendant_ids                              object\n",
       "category_full_name_path                                object\n",
       "default_warranty_period                               float64\n",
       "brand_name                                             object\n",
       "brand_parameterized                                    object\n",
       "segment_name                                           object\n",
       "segment_parameterezied                                 object\n",
       "segment_status                                         object\n",
       "dtype: object"
      ]
     },
     "execution_count": 5,
     "metadata": {},
     "output_type": "execute_result"
    }
   ],
   "source": [
    "data.dtypes"
   ]
  },
  {
   "cell_type": "code",
   "execution_count": 6,
   "id": "bf859c29-5698-43f8-87d5-d197517deca6",
   "metadata": {},
   "outputs": [
    {
     "data": {
      "text/plain": [
       "variant_id                            int64\n",
       "category_id                         float64\n",
       "brand_id                            float64\n",
       "status                               object\n",
       "is_new                               object\n",
       "reviews_count                         int64\n",
       "reviews_average_score_price         float64\n",
       "reviews_average_score_quality       float64\n",
       "reviews_average_score_properties    float64\n",
       "reviews_average_score_overall       float64\n",
       "in_sets_count                         int64\n",
       "is_in_stock                          object\n",
       "is_returnable                        object\n",
       "purchase_price                      float64\n",
       "eshop_stock_count                   float64\n",
       "country_of_origin_code               object\n",
       "name                                 object\n",
       "dtype: object"
      ]
     },
     "execution_count": 6,
     "metadata": {},
     "output_type": "execute_result"
    }
   ],
   "source": [
    "products.dtypes"
   ]
  },
  {
   "cell_type": "code",
   "execution_count": 7,
   "id": "23d45742-ad8a-46e4-a3a5-ea0c0b476d34",
   "metadata": {},
   "outputs": [
    {
     "data": {
      "text/plain": [
       "(1156071, 56)"
      ]
     },
     "execution_count": 7,
     "metadata": {},
     "output_type": "execute_result"
    }
   ],
   "source": [
    "data.shape"
   ]
  },
  {
   "cell_type": "code",
   "execution_count": 8,
   "id": "6610c959-3917-4f9d-a3c7-ae1e392d13af",
   "metadata": {},
   "outputs": [
    {
     "data": {
      "text/plain": [
       "(351053, 17)"
      ]
     },
     "execution_count": 8,
     "metadata": {},
     "output_type": "execute_result"
    }
   ],
   "source": [
    "products.shape"
   ]
  },
  {
   "cell_type": "code",
   "execution_count": 9,
   "id": "7ddae64a-4c64-40a9-9876-b222c0998903",
   "metadata": {},
   "outputs": [
    {
     "data": {
      "text/plain": [
       "order_price_without_vat                            0\n",
       "order_price_with_vat                               0\n",
       "bill_country                                       0\n",
       "setting_currency_id                                0\n",
       "created_at                                         0\n",
       "shop_basket_id                                     0\n",
       "doc_date                                          32\n",
       "exchange_currency_rate                             0\n",
       "source                                             0\n",
       "currency_code                                      0\n",
       "currency_symbol                                    0\n",
       "price_round_system                                 0\n",
       "basket_total_price_before_discount_with_vat        0\n",
       "basket_total_price_with_vat                        0\n",
       "count_basket_items                                 0\n",
       "basket_count_products                              0\n",
       "basket_type                                        0\n",
       "item_quantity                                      0\n",
       "item_type                                          0\n",
       "item_unit_price_with_vat                           0\n",
       "item_unit_price_without_vat                        0\n",
       "item_total_discount_with_vat                       0\n",
       "product_id                                         0\n",
       "product_code                                       0\n",
       "catalog_category_id                             7900\n",
       "catalog_brand_id                                   0\n",
       "product_name                                       0\n",
       "product_status                                     0\n",
       "reviews_count                                      0\n",
       "reviews_average_score_price                        0\n",
       "reviews_average_score_quality                      0\n",
       "reviews_average_score_properties                   0\n",
       "reviews_average_score_overall                      0\n",
       "reviews_average_score                              0\n",
       "is_in_stock                                        0\n",
       "is_ended                                           0\n",
       "is_new                                             0\n",
       "is_boosted                                         0\n",
       "product_purchase_price                         11589\n",
       "eshop_stock_count                                  0\n",
       "is_fifo                                            0\n",
       "product_name_parameterize                          0\n",
       "category                                        7900\n",
       "tree_path                                       7900\n",
       "category_name_parameterized                     7900\n",
       "category_status                                 7900\n",
       "catalog_segment_id                              7900\n",
       "categories_ancestor_ids                         7900\n",
       "categories_descendant_ids                       7900\n",
       "category_full_name_path                         7900\n",
       "default_warranty_period                         7900\n",
       "brand_name                                         0\n",
       "brand_parameterized                                0\n",
       "segment_name                                    7900\n",
       "segment_parameterezied                          7900\n",
       "segment_status                                  7900\n",
       "dtype: int64"
      ]
     },
     "execution_count": 9,
     "metadata": {},
     "output_type": "execute_result"
    }
   ],
   "source": [
    "data.isnull().sum()"
   ]
  },
  {
   "cell_type": "code",
   "execution_count": 22,
   "id": "e3a7e4b4-8dfa-4c32-bbd2-c37eb459be62",
   "metadata": {},
   "outputs": [],
   "source": [
    "# Dropping all NaNs from the data dataframe, since they are in important columns\n",
    "data.dropna(inplace=True)"
   ]
  },
  {
   "cell_type": "code",
   "execution_count": 10,
   "id": "99051ebf-010a-4076-bf17-2190fcfaae50",
   "metadata": {},
   "outputs": [
    {
     "data": {
      "text/plain": [
       "variant_id                              0\n",
       "category_id                          7078\n",
       "brand_id                                2\n",
       "status                                  0\n",
       "is_new                                  0\n",
       "reviews_count                           0\n",
       "reviews_average_score_price             0\n",
       "reviews_average_score_quality           0\n",
       "reviews_average_score_properties        0\n",
       "reviews_average_score_overall           0\n",
       "in_sets_count                           0\n",
       "is_in_stock                             0\n",
       "is_returnable                           0\n",
       "purchase_price                      52581\n",
       "eshop_stock_count                       0\n",
       "country_of_origin_code              16109\n",
       "name                                    1\n",
       "dtype: int64"
      ]
     },
     "execution_count": 10,
     "metadata": {},
     "output_type": "execute_result"
    }
   ],
   "source": [
    "products.isnull().sum()"
   ]
  },
  {
   "cell_type": "markdown",
   "id": "13b81eef-0a4e-4f1e-bddb-a245e57c0817",
   "metadata": {},
   "source": [
    "## **Data.csv insights**"
   ]
  },
  {
   "cell_type": "code",
   "execution_count": 136,
   "id": "748d5249-7a9d-43cd-bf7b-26ae45b6db8c",
   "metadata": {},
   "outputs": [],
   "source": [
    "def create_others_value_counts(threshold : float, df : pd.DataFrame, column_name : str) -> pd.Series:\n",
    "    \"\"\"\n",
    "    Function which groups all of the values under threshold into 'others' with preserving of original categories\n",
    "    Args\n",
    "        threshold - float in range <0,1> as a threshold for key to be marked as others (desired percentage / 100)\n",
    "        df - desired DataFrame containing given column\n",
    "        column_name - string with the exact name of a desired Series\n",
    "    Returns\n",
    "        pd.Series - returns Series with the new 'others' group\n",
    "    \"\"\"\n",
    "    \n",
    "    over_thr = df[column_name].value_counts(normalize=True).loc[lambda x : x > threshold]\n",
    "    under_thr = df[column_name].value_counts(normalize=True).loc[lambda x : x <= threshold]\n",
    "    merged_series =  pd.concat([over_thr, pd.Series(under_thr.sum(), index=['others'])])\n",
    "    return merged_series"
   ]
  },
  {
   "cell_type": "code",
   "execution_count": 137,
   "id": "d632b64c-84d2-474d-bede-dc75430af79f",
   "metadata": {},
   "outputs": [
    {
     "name": "stdout",
     "output_type": "stream",
     "text": [
      "Muziker                 192576\n",
      "Fender                   49255\n",
      "Behringer                27966\n",
      "Dunlop                   27559\n",
      "Yamaha                   27033\n",
      "                         ...  \n",
      "Flamengo                     1\n",
      "Blinded By The Light         1\n",
      "Robin Schulz                 1\n",
      "Skyforger                    1\n",
      "Fatal Fusion                 1\n",
      "Name: brand_name, Length: 3185, dtype: int64\n"
     ]
    }
   ],
   "source": [
    "# calculate how many brands there are as well as the most common\n",
    "print(data.brand_name.value_counts())"
   ]
  },
  {
   "cell_type": "code",
   "execution_count": 197,
   "id": "5466bd1a-fe21-4f48-95c2-a8b865e5f82a",
   "metadata": {},
   "outputs": [],
   "source": [
    "plt.rcParams['figure.figsize'] = (12, 8)\n",
    "plt.rcParams['figure.dpi'] = 80\n",
    "plt.rcParams['axes.facecolor'] = 'FFFFFF'\n",
    "plt.rcParams['legend.facecolor'] = 'FFFFFF'\n",
    "plt.rcParams['patch.facecolor'] = 'FFFFFF'\n",
    "# figure().patch.set_facecolor('white')"
   ]
  },
  {
   "cell_type": "code",
   "execution_count": 191,
   "id": "f2b352cb-1056-421d-9ec6-48acd759582c",
   "metadata": {},
   "outputs": [
    {
     "data": {
      "image/png": "[encoded data removed]",
      "text/plain": [
       "<Figure size 960x640 with 1 Axes>"
      ]
     },
     "metadata": {
      "needs_background": "light"
     },
     "output_type": "display_data"
    }
   ],
   "source": [
    "counted_countries = create_others_value_counts(0.01, data, 'brand_name') \n",
    "counted_countries.plot(kind='barh', title='Brand names distribution')\n",
    "plt.show()"
   ]
  },
  {
   "cell_type": "markdown",
   "id": "acf24f6f-4de9-4632-8d77-d7700c28a6e6",
   "metadata": {},
   "source": [
    "As we can see above, there is HUGE variety of brands in products (3185) with only 12 of them having more than 1% of products."
   ]
  },
  {
   "cell_type": "markdown",
   "id": "b7375017-4365-4345-9a13-2563d4cd4b6d",
   "metadata": {},
   "source": [
    "Percentage of bill countries, with the threshold of 1% to be shown as bill country of an order."
   ]
  },
  {
   "cell_type": "code",
   "execution_count": 211,
   "id": "06939af7-33cd-4967-9c69-4466bb36f12d",
   "metadata": {},
   "outputs": [
    {
     "name": "stdout",
     "output_type": "stream",
     "text": [
      "Bill countries in data: ['HU' 'IT' 'RO' 'SK' 'FR' 'AT' 'HR' 'CZ' 'BG' 'DE' 'SI' 'PL' 'IE' 'GB'\n",
      " 'DK' 'BE' 'NL' 'LV' 'SE' 'PT' 'EE' 'ES' 'LT' 'CH' 'LU' 'UA' 'FI' 'EL'\n",
      " 'GR' 'TR' 'BA' 'RS'].\n",
      " That is 32 countries\n"
     ]
    },
    {
     "data": {
      "image/png": "[encoded data removed]",
      "text/plain": [
       "<Figure size 960x640 with 1 Axes>"
      ]
     },
     "metadata": {},
     "output_type": "display_data"
    }
   ],
   "source": [
    "print(f'Bill countries in data: {data.bill_country.unique()}.\\n That is {len(data.bill_country.unique())} countries as bill countries.')\n",
    "\n",
    "figure().patch.set_facecolor('white')\n",
    "counted_countries = create_others_value_counts(0.01, data, 'bill_country') \n",
    "counted_countries.plot(kind='pie', autopct='%1.1f%%', title='Bill countires')\n",
    "plt.show()"
   ]
  },
  {
   "cell_type": "code",
   "execution_count": 224,
   "id": "4eeb723b-49b5-4250-b90a-243bec49ddf5",
   "metadata": {},
   "outputs": [],
   "source": [
    "TODO = list(data.columns)\n",
    "TODO.remove('bill_country')\n",
    "TODO.remove('brand_name')"
   ]
  },
  {
   "cell_type": "code",
   "execution_count": 225,
   "id": "cf984a1a-c3ea-4b14-bb66-9bb148e2fd4f",
   "metadata": {},
   "outputs": [
    {
     "data": {
      "text/plain": [
       "['order_price_without_vat',\n",
       " 'order_price_with_vat',\n",
       " 'setting_currency_id',\n",
       " 'created_at',\n",
       " 'shop_basket_id',\n",
       " 'doc_date',\n",
       " 'exchange_currency_rate',\n",
       " 'source',\n",
       " 'currency_code',\n",
       " 'currency_symbol',\n",
       " 'price_round_system',\n",
       " 'basket_total_price_before_discount_with_vat',\n",
       " 'basket_total_price_with_vat',\n",
       " 'count_basket_items',\n",
       " 'basket_count_products',\n",
       " 'basket_type',\n",
       " 'item_quantity',\n",
       " 'item_type',\n",
       " 'item_unit_price_with_vat',\n",
       " 'item_unit_price_without_vat',\n",
       " 'item_total_discount_with_vat',\n",
       " 'product_id',\n",
       " 'product_code',\n",
       " 'catalog_category_id',\n",
       " 'catalog_brand_id',\n",
       " 'product_name',\n",
       " 'product_status',\n",
       " 'reviews_count',\n",
       " 'reviews_average_score_price',\n",
       " 'reviews_average_score_quality',\n",
       " 'reviews_average_score_properties',\n",
       " 'reviews_average_score_overall',\n",
       " 'reviews_average_score',\n",
       " 'is_in_stock',\n",
       " 'is_ended',\n",
       " 'is_new',\n",
       " 'is_boosted',\n",
       " 'product_purchase_price',\n",
       " 'eshop_stock_count',\n",
       " 'is_fifo',\n",
       " 'product_name_parameterize',\n",
       " 'category',\n",
       " 'tree_path',\n",
       " 'category_name_parameterized',\n",
       " 'category_status',\n",
       " 'catalog_segment_id',\n",
       " 'categories_ancestor_ids',\n",
       " 'categories_descendant_ids',\n",
       " 'category_full_name_path',\n",
       " 'default_warranty_period',\n",
       " 'brand_parameterized',\n",
       " 'segment_name',\n",
       " 'segment_parameterezied',\n",
       " 'segment_status']"
      ]
     },
     "execution_count": 225,
     "metadata": {},
     "output_type": "execute_result"
    }
   ],
   "source": [
    "TODO"
   ]
  },
  {
   "cell_type": "code",
   "execution_count": null,
   "id": "f37ff393-f6ef-4f23-aff3-4368329b807d",
   "metadata": {},
   "outputs": [],
   "source": []
  }
 ],
 "metadata": {
  "kernelspec": {
   "display_name": "Python 3",
   "language": "python",
   "name": "python3"
  },
  "language_info": {
   "codemirror_mode": {
    "name": "ipython",
    "version": 3
   },
   "file_extension": ".py",
   "mimetype": "text/x-python",
   "name": "python",
   "nbconvert_exporter": "python",
   "pygments_lexer": "ipython3",
   "version": "3.8.10"
  }
 },
 "nbformat": 4,
 "nbformat_minor": 5
}
