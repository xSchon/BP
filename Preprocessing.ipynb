{
 "cells": [
  {
   "cell_type": "code",
   "execution_count": 110,
   "id": "376efb13-db27-4f71-a857-5b6b27e793a0",
   "metadata": {},
   "outputs": [],
   "source": [
    "import pandas as pd\n",
    "import numpy as np\n",
    "\n",
    "import matplotlib.pyplot as plt\n",
    "\n",
    "import category_encoders as ce"
   ]
  },
  {
   "cell_type": "code",
   "execution_count": 2,
   "id": "c0cff9cb-83e1-4a28-94ef-3c1f1f392537",
   "metadata": {},
   "outputs": [],
   "source": [
    "DATA_PATH = 'data/data_after_EDA.csv'\n",
    "\n",
    "# Display all of the columns when data are shown\n",
    "pd.set_option('display.max_columns', 60) "
   ]
  },
  {
   "cell_type": "code",
   "execution_count": 3,
   "id": "1dcd79fd-1157-4b75-8066-b10b6426d2fd",
   "metadata": {},
   "outputs": [],
   "source": [
    "data =  pd.read_csv(DATA_PATH, sep=',', parse_dates=['doc_date'], low_memory=False)"
   ]
  },
  {
   "cell_type": "code",
   "execution_count": 4,
   "id": "c00d3838-3c59-4073-b781-96efac281416",
   "metadata": {},
   "outputs": [
    {
     "data": {
      "text/html": [
       "<div>\n",
       "<style scoped>\n",
       "    .dataframe tbody tr th:only-of-type {\n",
       "        vertical-align: middle;\n",
       "    }\n",
       "\n",
       "    .dataframe tbody tr th {\n",
       "        vertical-align: top;\n",
       "    }\n",
       "\n",
       "    .dataframe thead th {\n",
       "        text-align: right;\n",
       "    }\n",
       "</style>\n",
       "<table border=\"1\" class=\"dataframe\">\n",
       "  <thead>\n",
       "    <tr style=\"text-align: right;\">\n",
       "      <th></th>\n",
       "      <th>bill_country</th>\n",
       "      <th>setting_currency_id</th>\n",
       "      <th>shop_basket_id</th>\n",
       "      <th>doc_date</th>\n",
       "      <th>exchange_currency_rate</th>\n",
       "      <th>original_currency_code</th>\n",
       "      <th>basket_total_price_with_vat</th>\n",
       "      <th>count_basket_items</th>\n",
       "      <th>basket_count_products</th>\n",
       "      <th>basket_type</th>\n",
       "      <th>item_quantity</th>\n",
       "      <th>item_type</th>\n",
       "      <th>item_unit_price_with_vat</th>\n",
       "      <th>item_total_discount_with_vat</th>\n",
       "      <th>product_id</th>\n",
       "      <th>product_code</th>\n",
       "      <th>catalog_category_id</th>\n",
       "      <th>catalog_brand_id</th>\n",
       "      <th>product_name</th>\n",
       "      <th>product_status</th>\n",
       "      <th>reviews_count</th>\n",
       "      <th>reviews_average_score_price</th>\n",
       "      <th>reviews_average_score_quality</th>\n",
       "      <th>reviews_average_score_properties</th>\n",
       "      <th>reviews_average_score_overall</th>\n",
       "      <th>reviews_average_score</th>\n",
       "      <th>is_in_stock</th>\n",
       "      <th>is_ended</th>\n",
       "      <th>is_new</th>\n",
       "      <th>is_boosted</th>\n",
       "      <th>product_purchase_price</th>\n",
       "      <th>eshop_stock_count</th>\n",
       "      <th>is_fifo</th>\n",
       "      <th>product_name_parameterize</th>\n",
       "      <th>category</th>\n",
       "      <th>tree_path</th>\n",
       "      <th>category_name_parameterized</th>\n",
       "      <th>category_status</th>\n",
       "      <th>catalog_segment_id</th>\n",
       "      <th>categories_ancestor_ids</th>\n",
       "      <th>categories_descendant_ids</th>\n",
       "      <th>category_full_name_path</th>\n",
       "      <th>default_warranty_period</th>\n",
       "      <th>brand_name</th>\n",
       "      <th>brand_parameterized</th>\n",
       "      <th>segment_name</th>\n",
       "      <th>segment_parameterized</th>\n",
       "    </tr>\n",
       "  </thead>\n",
       "  <tbody>\n",
       "    <tr>\n",
       "      <th>0</th>\n",
       "      <td>BG</td>\n",
       "      <td>1</td>\n",
       "      <td>1136409</td>\n",
       "      <td>2020-04-26</td>\n",
       "      <td>1.9558</td>\n",
       "      <td>BGN</td>\n",
       "      <td>345.0</td>\n",
       "      <td>18</td>\n",
       "      <td>18</td>\n",
       "      <td>standard</td>\n",
       "      <td>1</td>\n",
       "      <td>standard</td>\n",
       "      <td>5.34</td>\n",
       "      <td>0.28</td>\n",
       "      <td>39848</td>\n",
       "      <td>225542</td>\n",
       "      <td>179.0</td>\n",
       "      <td>145</td>\n",
       "      <td>MC-2</td>\n",
       "      <td>active</td>\n",
       "      <td>83</td>\n",
       "      <td>95.192308</td>\n",
       "      <td>93.653846</td>\n",
       "      <td>93.653846</td>\n",
       "      <td>94.423077</td>\n",
       "      <td>94.277108</td>\n",
       "      <td>True</td>\n",
       "      <td>False</td>\n",
       "      <td>False</td>\n",
       "      <td>False</td>\n",
       "      <td>2.205000</td>\n",
       "      <td>-2.0</td>\n",
       "      <td>False</td>\n",
       "      <td>mc-2</td>\n",
       "      <td>Kapodastre pre gitaru s kovovými strunami</td>\n",
       "      <td>001:001:019:001</td>\n",
       "      <td>kapodastre-pre-gitaru-s-kovovymi-strunami</td>\n",
       "      <td>active</td>\n",
       "      <td>1.0</td>\n",
       "      <td>{3,4,178}</td>\n",
       "      <td>{}</td>\n",
       "      <td>{Music,Guitars,Capos,\"Capo for acoustic guitar\"}</td>\n",
       "      <td>24.0</td>\n",
       "      <td>Musedo</td>\n",
       "      <td>musedo</td>\n",
       "      <td>Music</td>\n",
       "      <td>music</td>\n",
       "    </tr>\n",
       "    <tr>\n",
       "      <th>1</th>\n",
       "      <td>BG</td>\n",
       "      <td>1</td>\n",
       "      <td>1136409</td>\n",
       "      <td>2020-04-26</td>\n",
       "      <td>1.9558</td>\n",
       "      <td>BGN</td>\n",
       "      <td>345.0</td>\n",
       "      <td>18</td>\n",
       "      <td>18</td>\n",
       "      <td>standard</td>\n",
       "      <td>1</td>\n",
       "      <td>standard</td>\n",
       "      <td>2.91</td>\n",
       "      <td>0.15</td>\n",
       "      <td>140119</td>\n",
       "      <td>305503</td>\n",
       "      <td>762.0</td>\n",
       "      <td>109</td>\n",
       "      <td>TGC026 1m</td>\n",
       "      <td>active</td>\n",
       "      <td>1</td>\n",
       "      <td>0.000000</td>\n",
       "      <td>0.000000</td>\n",
       "      <td>0.000000</td>\n",
       "      <td>0.000000</td>\n",
       "      <td>100.000000</td>\n",
       "      <td>False</td>\n",
       "      <td>False</td>\n",
       "      <td>False</td>\n",
       "      <td>False</td>\n",
       "      <td>1.385000</td>\n",
       "      <td>0.0</td>\n",
       "      <td>False</td>\n",
       "      <td>tgc026-1m</td>\n",
       "      <td>Hotové nástrojové káble</td>\n",
       "      <td>001:005:010:001:001</td>\n",
       "      <td>hotove-nastrojove-kable</td>\n",
       "      <td>active</td>\n",
       "      <td>1.0</td>\n",
       "      <td>{3,607,760,761}</td>\n",
       "      <td>{}</td>\n",
       "      <td>{Music,\"Studio / PA\",Cables,\"Complete Cables\",...</td>\n",
       "      <td>24.0</td>\n",
       "      <td>Lewitz</td>\n",
       "      <td>lewitz</td>\n",
       "      <td>Music</td>\n",
       "      <td>music</td>\n",
       "    </tr>\n",
       "    <tr>\n",
       "      <th>2</th>\n",
       "      <td>BG</td>\n",
       "      <td>1</td>\n",
       "      <td>1136409</td>\n",
       "      <td>2020-04-26</td>\n",
       "      <td>1.9558</td>\n",
       "      <td>BGN</td>\n",
       "      <td>345.0</td>\n",
       "      <td>18</td>\n",
       "      <td>18</td>\n",
       "      <td>standard</td>\n",
       "      <td>1</td>\n",
       "      <td>standard</td>\n",
       "      <td>0.49</td>\n",
       "      <td>0.03</td>\n",
       "      <td>34663</td>\n",
       "      <td>220357</td>\n",
       "      <td>153.0</td>\n",
       "      <td>13</td>\n",
       "      <td>351 Shape Premium Pick Medium White Moto</td>\n",
       "      <td>active</td>\n",
       "      <td>46</td>\n",
       "      <td>92.258065</td>\n",
       "      <td>93.225806</td>\n",
       "      <td>94.516129</td>\n",
       "      <td>94.193548</td>\n",
       "      <td>94.804348</td>\n",
       "      <td>True</td>\n",
       "      <td>False</td>\n",
       "      <td>False</td>\n",
       "      <td>False</td>\n",
       "      <td>0.164984</td>\n",
       "      <td>303.0</td>\n",
       "      <td>False</td>\n",
       "      <td>351-shape-premium-pick-medium-white-moto</td>\n",
       "      <td>Medium trsátka</td>\n",
       "      <td>001:001:015:002</td>\n",
       "      <td>medium-trsatka</td>\n",
       "      <td>active</td>\n",
       "      <td>1.0</td>\n",
       "      <td>{3,4,151}</td>\n",
       "      <td>{}</td>\n",
       "      <td>{Music,Guitars,\"Guitar Picks\",\"Medium Picks\"}</td>\n",
       "      <td>24.0</td>\n",
       "      <td>Fender</td>\n",
       "      <td>fender</td>\n",
       "      <td>Music</td>\n",
       "      <td>music</td>\n",
       "    </tr>\n",
       "    <tr>\n",
       "      <th>3</th>\n",
       "      <td>BG</td>\n",
       "      <td>1</td>\n",
       "      <td>1136409</td>\n",
       "      <td>2020-04-26</td>\n",
       "      <td>1.9558</td>\n",
       "      <td>BGN</td>\n",
       "      <td>345.0</td>\n",
       "      <td>18</td>\n",
       "      <td>18</td>\n",
       "      <td>standard</td>\n",
       "      <td>1</td>\n",
       "      <td>standard</td>\n",
       "      <td>4.86</td>\n",
       "      <td>0.26</td>\n",
       "      <td>63176</td>\n",
       "      <td>248871</td>\n",
       "      <td>192.0</td>\n",
       "      <td>320</td>\n",
       "      <td>536501 Foot Rest Blue</td>\n",
       "      <td>active</td>\n",
       "      <td>10</td>\n",
       "      <td>92.500000</td>\n",
       "      <td>87.500000</td>\n",
       "      <td>92.500000</td>\n",
       "      <td>90.000000</td>\n",
       "      <td>92.500000</td>\n",
       "      <td>True</td>\n",
       "      <td>False</td>\n",
       "      <td>False</td>\n",
       "      <td>False</td>\n",
       "      <td>3.243455</td>\n",
       "      <td>55.0</td>\n",
       "      <td>False</td>\n",
       "      <td>536501-foot-rest-blue</td>\n",
       "      <td>Gitarové podnožky</td>\n",
       "      <td>001:001:024</td>\n",
       "      <td>gitarove-podnozky</td>\n",
       "      <td>active</td>\n",
       "      <td>1.0</td>\n",
       "      <td>{3,4}</td>\n",
       "      <td>{}</td>\n",
       "      <td>{Music,Guitars,\"Guitar Foot Rest\"}</td>\n",
       "      <td>24.0</td>\n",
       "      <td>GEWA</td>\n",
       "      <td>gewa</td>\n",
       "      <td>Music</td>\n",
       "      <td>music</td>\n",
       "    </tr>\n",
       "    <tr>\n",
       "      <th>4</th>\n",
       "      <td>BG</td>\n",
       "      <td>1</td>\n",
       "      <td>1136409</td>\n",
       "      <td>2020-04-26</td>\n",
       "      <td>1.9558</td>\n",
       "      <td>BGN</td>\n",
       "      <td>345.0</td>\n",
       "      <td>18</td>\n",
       "      <td>18</td>\n",
       "      <td>standard</td>\n",
       "      <td>1</td>\n",
       "      <td>standard</td>\n",
       "      <td>0.49</td>\n",
       "      <td>0.03</td>\n",
       "      <td>51524</td>\n",
       "      <td>237219</td>\n",
       "      <td>152.0</td>\n",
       "      <td>6</td>\n",
       "      <td>BPK-72-AT Celluloid Pick Thin Abalone</td>\n",
       "      <td>active</td>\n",
       "      <td>0</td>\n",
       "      <td>0.000000</td>\n",
       "      <td>0.000000</td>\n",
       "      <td>0.000000</td>\n",
       "      <td>0.000000</td>\n",
       "      <td>0.000000</td>\n",
       "      <td>True</td>\n",
       "      <td>True</td>\n",
       "      <td>False</td>\n",
       "      <td>False</td>\n",
       "      <td>0.138880</td>\n",
       "      <td>0.0</td>\n",
       "      <td>False</td>\n",
       "      <td>bpk-72-at-celluloid-pick-thin-abalone</td>\n",
       "      <td>Light trsátka</td>\n",
       "      <td>001:001:015:001</td>\n",
       "      <td>light-trsatka</td>\n",
       "      <td>active</td>\n",
       "      <td>1.0</td>\n",
       "      <td>{3,4,151}</td>\n",
       "      <td>{}</td>\n",
       "      <td>{Music,Guitars,\"Guitar Picks\",\"Light Picks\"}</td>\n",
       "      <td>24.0</td>\n",
       "      <td>Boss</td>\n",
       "      <td>boss</td>\n",
       "      <td>Music</td>\n",
       "      <td>music</td>\n",
       "    </tr>\n",
       "  </tbody>\n",
       "</table>\n",
       "</div>"
      ],
      "text/plain": [
       "  bill_country  setting_currency_id  shop_basket_id   doc_date  \\\n",
       "0           BG                    1         1136409 2020-04-26   \n",
       "1           BG                    1         1136409 2020-04-26   \n",
       "2           BG                    1         1136409 2020-04-26   \n",
       "3           BG                    1         1136409 2020-04-26   \n",
       "4           BG                    1         1136409 2020-04-26   \n",
       "\n",
       "   exchange_currency_rate original_currency_code  basket_total_price_with_vat  \\\n",
       "0                  1.9558                    BGN                        345.0   \n",
       "1                  1.9558                    BGN                        345.0   \n",
       "2                  1.9558                    BGN                        345.0   \n",
       "3                  1.9558                    BGN                        345.0   \n",
       "4                  1.9558                    BGN                        345.0   \n",
       "\n",
       "   count_basket_items  basket_count_products basket_type  item_quantity  \\\n",
       "0                  18                     18    standard              1   \n",
       "1                  18                     18    standard              1   \n",
       "2                  18                     18    standard              1   \n",
       "3                  18                     18    standard              1   \n",
       "4                  18                     18    standard              1   \n",
       "\n",
       "  item_type  item_unit_price_with_vat  item_total_discount_with_vat  \\\n",
       "0  standard                      5.34                          0.28   \n",
       "1  standard                      2.91                          0.15   \n",
       "2  standard                      0.49                          0.03   \n",
       "3  standard                      4.86                          0.26   \n",
       "4  standard                      0.49                          0.03   \n",
       "\n",
       "   product_id  product_code  catalog_category_id  catalog_brand_id  \\\n",
       "0       39848        225542                179.0               145   \n",
       "1      140119        305503                762.0               109   \n",
       "2       34663        220357                153.0                13   \n",
       "3       63176        248871                192.0               320   \n",
       "4       51524        237219                152.0                 6   \n",
       "\n",
       "                               product_name product_status  reviews_count  \\\n",
       "0                                      MC-2         active             83   \n",
       "1                                 TGC026 1m         active              1   \n",
       "2  351 Shape Premium Pick Medium White Moto         active             46   \n",
       "3                     536501 Foot Rest Blue         active             10   \n",
       "4     BPK-72-AT Celluloid Pick Thin Abalone         active              0   \n",
       "\n",
       "   reviews_average_score_price  reviews_average_score_quality  \\\n",
       "0                    95.192308                      93.653846   \n",
       "1                     0.000000                       0.000000   \n",
       "2                    92.258065                      93.225806   \n",
       "3                    92.500000                      87.500000   \n",
       "4                     0.000000                       0.000000   \n",
       "\n",
       "   reviews_average_score_properties  reviews_average_score_overall  \\\n",
       "0                         93.653846                      94.423077   \n",
       "1                          0.000000                       0.000000   \n",
       "2                         94.516129                      94.193548   \n",
       "3                         92.500000                      90.000000   \n",
       "4                          0.000000                       0.000000   \n",
       "\n",
       "   reviews_average_score  is_in_stock  is_ended  is_new  is_boosted  \\\n",
       "0              94.277108         True     False   False       False   \n",
       "1             100.000000        False     False   False       False   \n",
       "2              94.804348         True     False   False       False   \n",
       "3              92.500000         True     False   False       False   \n",
       "4               0.000000         True      True   False       False   \n",
       "\n",
       "   product_purchase_price  eshop_stock_count  is_fifo  \\\n",
       "0                2.205000               -2.0    False   \n",
       "1                1.385000                0.0    False   \n",
       "2                0.164984              303.0    False   \n",
       "3                3.243455               55.0    False   \n",
       "4                0.138880                0.0    False   \n",
       "\n",
       "                  product_name_parameterize  \\\n",
       "0                                      mc-2   \n",
       "1                                 tgc026-1m   \n",
       "2  351-shape-premium-pick-medium-white-moto   \n",
       "3                     536501-foot-rest-blue   \n",
       "4     bpk-72-at-celluloid-pick-thin-abalone   \n",
       "\n",
       "                                    category            tree_path  \\\n",
       "0  Kapodastre pre gitaru s kovovými strunami      001:001:019:001   \n",
       "1                    Hotové nástrojové káble  001:005:010:001:001   \n",
       "2                             Medium trsátka      001:001:015:002   \n",
       "3                          Gitarové podnožky          001:001:024   \n",
       "4                              Light trsátka      001:001:015:001   \n",
       "\n",
       "                 category_name_parameterized category_status  \\\n",
       "0  kapodastre-pre-gitaru-s-kovovymi-strunami          active   \n",
       "1                    hotove-nastrojove-kable          active   \n",
       "2                             medium-trsatka          active   \n",
       "3                          gitarove-podnozky          active   \n",
       "4                              light-trsatka          active   \n",
       "\n",
       "   catalog_segment_id categories_ancestor_ids categories_descendant_ids  \\\n",
       "0                 1.0               {3,4,178}                        {}   \n",
       "1                 1.0         {3,607,760,761}                        {}   \n",
       "2                 1.0               {3,4,151}                        {}   \n",
       "3                 1.0                   {3,4}                        {}   \n",
       "4                 1.0               {3,4,151}                        {}   \n",
       "\n",
       "                             category_full_name_path  default_warranty_period  \\\n",
       "0   {Music,Guitars,Capos,\"Capo for acoustic guitar\"}                     24.0   \n",
       "1  {Music,\"Studio / PA\",Cables,\"Complete Cables\",...                     24.0   \n",
       "2      {Music,Guitars,\"Guitar Picks\",\"Medium Picks\"}                     24.0   \n",
       "3                 {Music,Guitars,\"Guitar Foot Rest\"}                     24.0   \n",
       "4       {Music,Guitars,\"Guitar Picks\",\"Light Picks\"}                     24.0   \n",
       "\n",
       "  brand_name brand_parameterized segment_name segment_parameterized  \n",
       "0     Musedo              musedo        Music                 music  \n",
       "1     Lewitz              lewitz        Music                 music  \n",
       "2     Fender              fender        Music                 music  \n",
       "3       GEWA                gewa        Music                 music  \n",
       "4       Boss                boss        Music                 music  "
      ]
     },
     "execution_count": 4,
     "metadata": {},
     "output_type": "execute_result"
    }
   ],
   "source": [
    "data.head(5)"
   ]
  },
  {
   "cell_type": "code",
   "execution_count": 5,
   "id": "f94fd944-b855-46fe-915d-a24b80d5ced0",
   "metadata": {},
   "outputs": [
    {
     "data": {
      "text/plain": [
       "bill_country                        0\n",
       "setting_currency_id                 0\n",
       "shop_basket_id                      0\n",
       "doc_date                            0\n",
       "exchange_currency_rate              0\n",
       "original_currency_code              0\n",
       "basket_total_price_with_vat         0\n",
       "count_basket_items                  0\n",
       "basket_count_products               0\n",
       "basket_type                         0\n",
       "item_quantity                       0\n",
       "item_type                           0\n",
       "item_unit_price_with_vat            0\n",
       "item_total_discount_with_vat        0\n",
       "product_id                          0\n",
       "product_code                        0\n",
       "catalog_category_id                 0\n",
       "catalog_brand_id                    0\n",
       "product_name                        0\n",
       "product_status                      0\n",
       "reviews_count                       0\n",
       "reviews_average_score_price         0\n",
       "reviews_average_score_quality       0\n",
       "reviews_average_score_properties    0\n",
       "reviews_average_score_overall       0\n",
       "reviews_average_score               0\n",
       "is_in_stock                         0\n",
       "is_ended                            0\n",
       "is_new                              0\n",
       "is_boosted                          0\n",
       "product_purchase_price              0\n",
       "eshop_stock_count                   0\n",
       "is_fifo                             0\n",
       "product_name_parameterize           0\n",
       "category                            0\n",
       "tree_path                           0\n",
       "category_name_parameterized         0\n",
       "category_status                     0\n",
       "catalog_segment_id                  0\n",
       "categories_ancestor_ids             0\n",
       "categories_descendant_ids           0\n",
       "category_full_name_path             0\n",
       "default_warranty_period             0\n",
       "brand_name                          0\n",
       "brand_parameterized                 0\n",
       "segment_name                        0\n",
       "segment_parameterized               0\n",
       "dtype: int64"
      ]
     },
     "execution_count": 5,
     "metadata": {},
     "output_type": "execute_result"
    }
   ],
   "source": [
    "data.isna().sum()"
   ]
  },
  {
   "cell_type": "markdown",
   "id": "1ae650d7-b98f-46b5-b1f7-830c1af0e7cc",
   "metadata": {},
   "source": [
    "# 1. Change non-numeric values to numbers"
   ]
  },
  {
   "cell_type": "markdown",
   "id": "ef4ef74c-f840-492f-8440-ac9d50d515fa",
   "metadata": {},
   "source": [
    "Machine learning models usually work only with numeric values (integers or floats) - that's why we need to change other formats to numbers. "
   ]
  },
  {
   "cell_type": "code",
   "execution_count": 6,
   "id": "60372ff5-3de1-43e5-9521-451bac262abc",
   "metadata": {},
   "outputs": [
    {
     "data": {
      "text/plain": [
       "bill_country                                object\n",
       "setting_currency_id                          int64\n",
       "shop_basket_id                               int64\n",
       "doc_date                            datetime64[ns]\n",
       "exchange_currency_rate                     float64\n",
       "original_currency_code                      object\n",
       "basket_total_price_with_vat                float64\n",
       "count_basket_items                           int64\n",
       "basket_count_products                        int64\n",
       "basket_type                                 object\n",
       "item_quantity                                int64\n",
       "item_type                                   object\n",
       "item_unit_price_with_vat                   float64\n",
       "item_total_discount_with_vat               float64\n",
       "product_id                                   int64\n",
       "product_code                                 int64\n",
       "catalog_category_id                        float64\n",
       "catalog_brand_id                             int64\n",
       "product_name                                object\n",
       "product_status                              object\n",
       "reviews_count                                int64\n",
       "reviews_average_score_price                float64\n",
       "reviews_average_score_quality              float64\n",
       "reviews_average_score_properties           float64\n",
       "reviews_average_score_overall              float64\n",
       "reviews_average_score                      float64\n",
       "is_in_stock                                   bool\n",
       "is_ended                                      bool\n",
       "is_new                                        bool\n",
       "is_boosted                                    bool\n",
       "product_purchase_price                     float64\n",
       "eshop_stock_count                          float64\n",
       "is_fifo                                       bool\n",
       "product_name_parameterize                   object\n",
       "category                                    object\n",
       "tree_path                                   object\n",
       "category_name_parameterized                 object\n",
       "category_status                             object\n",
       "catalog_segment_id                         float64\n",
       "categories_ancestor_ids                     object\n",
       "categories_descendant_ids                   object\n",
       "category_full_name_path                     object\n",
       "default_warranty_period                    float64\n",
       "brand_name                                  object\n",
       "brand_parameterized                         object\n",
       "segment_name                                object\n",
       "segment_parameterized                       object\n",
       "dtype: object"
      ]
     },
     "execution_count": 6,
     "metadata": {},
     "output_type": "execute_result"
    }
   ],
   "source": [
    "data.dtypes"
   ]
  },
  {
   "cell_type": "markdown",
   "id": "2482dbdb-67a1-4415-a952-19f70dc50413",
   "metadata": {},
   "source": [
    "At first let's start with breaking down dates to four different columns - we can extract day of the month, day of the week, month and year. We will still keep the original datetime column in code, because it can be useful to easier access date (rather then creating it from columns)."
   ]
  },
  {
   "cell_type": "code",
   "execution_count": 7,
   "id": "788a5b7e-36e1-4376-b8a1-92768a888d0b",
   "metadata": {},
   "outputs": [],
   "source": [
    "years, months, days, weekdays = [], [], [], []\n",
    "for date in data['doc_date']:\n",
    "    years.append(date.year)\n",
    "    months.append(date.month)\n",
    "    days.append(date.day)\n",
    "    weekdays.append(date.weekday())\n",
    "    \n",
    "\n",
    "data['doc_day'] = days\n",
    "data['doc_month'] = months\n",
    "data['doc_year'] = years\n",
    "data['doc_weekday'] = weekdays"
   ]
  },
  {
   "cell_type": "markdown",
   "id": "2d282297-d151-4bc8-81ab-473e719df622",
   "metadata": {},
   "source": [
    "**The next part is to find columns that already have their natural number representation - i.e. product_name_parameterize is not necesarry column as we have product_id (numeric products identification)**"
   ]
  },
  {
   "cell_type": "code",
   "execution_count": 8,
   "id": "d8fa8c41-98ad-4711-948a-77595fc8c580",
   "metadata": {},
   "outputs": [],
   "source": [
    "# rename catalog_COLUMN to COLUMN only so it is easier to understand\n",
    "data.rename(columns={'catalog_category_id' : 'category_id', 'catalog_segment_id' : 'segment_id', 'catalog_brand_id' : 'brand_id'}, inplace=True)\n",
    "\n",
    "# rename other id columns with extra words to pure defining id in similar spirit as with catalog\n",
    "data.rename(columns={'setting_currency_id' : 'currency_id', 'shop_basket_id' : 'basket_id'}, inplace=True)"
   ]
  },
  {
   "cell_type": "code",
   "execution_count": 9,
   "id": "e9d84bd1-9b4f-4306-834d-9b6a8d4d2954",
   "metadata": {},
   "outputs": [],
   "source": [
    "def leave_only_id_column(df : pd.DataFrame(), id_column : str, other_columns : list, inplace : bool = False) -> pd.DataFrame():\n",
    "    \"\"\"\n",
    "    Function that counts and compares if product_id is proper representation of other given columns. If yes, then drop other columns and leave id only.\n",
    "    Args\n",
    "        df - pandas DataFrame containing desired columns\n",
    "        id_column - main column containing identificator, this column will be the only one remaining\n",
    "        other_columns - list of other columns, those will be compared and possibly dropped\n",
    "        inplace - If False, return a copy. Otherwise, do operation inplace and return None.\n",
    "    Returns\n",
    "        pd.DataFrame - DataFrame with removed columns in other_columns or None if inplace is True\n",
    "    \"\"\"\n",
    "    id_col_len = len(data[id_column].unique())\n",
    "    \n",
    "    unique_combinations = len(df[other_columns + [id_column]].drop_duplicates().index)\n",
    "    other_cols_string = ''\n",
    "    for name in other_columns:\n",
    "        other_cols_string += name+', '\n",
    "    \n",
    "    print(f\"{id_col_len} - Unique {id_column} amount.\")\n",
    "    print(f\"{unique_combinations} - Amount of unique combinations of {id_column} and {other_cols_string}\")\n",
    "    \n",
    "    missmatches_amount = abs(id_col_len - unique_combinations)\n",
    "    print(f\"{missmatches_amount} - How many missmatches between {id_column} and other columns.\")\n",
    "    \n",
    "    if missmatches_amount == 0:\n",
    "        if inplace:\n",
    "            df.drop(labels=other_columns, inplace=inplace, axis=1)\n",
    "            return None\n",
    "        else:\n",
    "            return df.drop(labels=other_columns, inplace=inplace, axis=1)\n",
    "        \n",
    "    else: \n",
    "        print('There were missmatches, not dropping any columns.')\n",
    "        return None"
   ]
  },
  {
   "cell_type": "markdown",
   "id": "22c1c565-36ad-4a5d-a0ad-845b1afb3656",
   "metadata": {},
   "source": [
    "Because each product id represents one product correctly, we can drop product name as well as parameterized product name. \\\n",
    "We can drop product_code as well for the same reason - product id represents same products as product_code but in different encodings."
   ]
  },
  {
   "cell_type": "code",
   "execution_count": 10,
   "id": "302664c0-dca7-4959-bc0f-205a96c0ae4c",
   "metadata": {
    "tags": []
   },
   "outputs": [
    {
     "name": "stdout",
     "output_type": "stream",
     "text": [
      "165447 - Unique product_id amount.\n",
      "165447 - Amount of unique combinations of product_id and product_name, product_code, \n",
      "0 - How many missmatches between product_id and other columns.\n",
      "\n",
      "\n",
      "165447 - Unique product_id amount.\n",
      "165454 - Amount of unique combinations of product_id and product_name_parameterize, \n",
      "7 - How many missmatches between product_id and other columns.\n",
      "There were missmatches, not dropping any columns.\n"
     ]
    }
   ],
   "source": [
    "leave_only_id_column(data, 'product_id', ['product_name', 'product_code'], inplace=True)\n",
    "print('\\n')\n",
    "\n",
    "leave_only_id_column(data, 'product_id', ['product_name_parameterize'], inplace=True)"
   ]
  },
  {
   "cell_type": "code",
   "execution_count": 11,
   "id": "d38d7180-1ffd-4dfc-979f-c030895903e7",
   "metadata": {},
   "outputs": [
    {
     "name": "stdout",
     "output_type": "stream",
     "text": [
      "147631    2\n",
      "147609    2\n",
      "107679    2\n",
      "147573    2\n",
      "103795    2\n",
      "91810     2\n",
      "203372    2\n",
      "104009    1\n",
      "168354    1\n",
      "278795    1\n",
      "Name: product_id, dtype: int64\n"
     ]
    },
    {
     "data": {
      "text/html": [
       "<div>\n",
       "<style scoped>\n",
       "    .dataframe tbody tr th:only-of-type {\n",
       "        vertical-align: middle;\n",
       "    }\n",
       "\n",
       "    .dataframe tbody tr th {\n",
       "        vertical-align: top;\n",
       "    }\n",
       "\n",
       "    .dataframe thead th {\n",
       "        text-align: right;\n",
       "    }\n",
       "</style>\n",
       "<table border=\"1\" class=\"dataframe\">\n",
       "  <thead>\n",
       "    <tr style=\"text-align: right;\">\n",
       "      <th></th>\n",
       "      <th>product_name_parameterize</th>\n",
       "    </tr>\n",
       "  </thead>\n",
       "  <tbody>\n",
       "    <tr>\n",
       "      <th>45055</th>\n",
       "      <td>47rs-1-38-nylon-jazz-6-pack</td>\n",
       "    </tr>\n",
       "    <tr>\n",
       "      <th>1215752</th>\n",
       "      <td>47rs-1-38-nylon-jazz-6-pack-set</td>\n",
       "    </tr>\n",
       "  </tbody>\n",
       "</table>\n",
       "</div>"
      ],
      "text/plain": [
       "               product_name_parameterize\n",
       "45055        47rs-1-38-nylon-jazz-6-pack\n",
       "1215752  47rs-1-38-nylon-jazz-6-pack-set"
      ]
     },
     "execution_count": 11,
     "metadata": {},
     "output_type": "execute_result"
    }
   ],
   "source": [
    "print(data[['product_id' , 'product_name_parameterize']].drop_duplicates().product_id.value_counts().head(10))\n",
    "data[data[['product_id' , 'product_name_parameterize', 'item_type']].product_id.__eq__(147573)][['product_name_parameterize']].drop_duplicates()"
   ]
  },
  {
   "cell_type": "code",
   "execution_count": 12,
   "id": "4ec84735-b1a6-470d-af28-69a43033d200",
   "metadata": {},
   "outputs": [],
   "source": [
    "data.drop(labels='product_name_parameterize', inplace=True, axis=1)"
   ]
  },
  {
   "cell_type": "markdown",
   "id": "f6a25915-eddd-4401-8ddf-9f1fc9298939",
   "metadata": {},
   "source": [
    "Product name parameterize has 7 different than unique values. If we look deeper into it we can see that it is only because there is -set added to the end of the name parameterized. This is deprecated way of set selling, since there is now column (item_type) to differentiate between sets and standard items. That's why we can drop product_name_parametereize as well."
   ]
  },
  {
   "cell_type": "markdown",
   "id": "73f647f3-6bec-4599-bdec-3a8d7eb94d8b",
   "metadata": {},
   "source": [
    "Similar to products, there is many alike records in data (columns represented by other column), we can take care of all of them. "
   ]
  },
  {
   "cell_type": "code",
   "execution_count": 13,
   "id": "e6fbbc4d-9262-4a33-a40f-5fe1a24f0599",
   "metadata": {
    "tags": []
   },
   "outputs": [
    {
     "name": "stdout",
     "output_type": "stream",
     "text": [
      "2455 - Unique category_id amount.\n",
      "2455 - Amount of unique combinations of category_id and category, category_name_parameterized, \n",
      "0 - How many missmatches between category_id and other columns.\n"
     ]
    }
   ],
   "source": [
    "leave_only_id_column(data, 'category_id', ['category', 'category_name_parameterized'], inplace=True)"
   ]
  },
  {
   "cell_type": "code",
   "execution_count": 14,
   "id": "4f309f03-7f5f-4cde-ac16-c88ddc440e65",
   "metadata": {},
   "outputs": [
    {
     "name": "stdout",
     "output_type": "stream",
     "text": [
      "5336 - Unique brand_id amount.\n",
      "5336 - Amount of unique combinations of brand_id and brand_name, brand_parameterized, \n",
      "0 - How many missmatches between brand_id and other columns.\n"
     ]
    }
   ],
   "source": [
    "leave_only_id_column(data, 'brand_id', ['brand_name', 'brand_parameterized'], inplace=True)"
   ]
  },
  {
   "cell_type": "code",
   "execution_count": 15,
   "id": "73d403fd-2e18-4d14-b633-3c39c098e08f",
   "metadata": {},
   "outputs": [
    {
     "name": "stdout",
     "output_type": "stream",
     "text": [
      "10 - Unique currency_id amount.\n",
      "10 - Amount of unique combinations of currency_id and original_currency_code, \n",
      "0 - How many missmatches between currency_id and other columns.\n"
     ]
    }
   ],
   "source": [
    "leave_only_id_column(data, 'currency_id', ['original_currency_code'], inplace=True)"
   ]
  },
  {
   "cell_type": "code",
   "execution_count": 16,
   "id": "2fe12418-2510-4eed-a3fb-1dbb21b8daef",
   "metadata": {},
   "outputs": [
    {
     "name": "stdout",
     "output_type": "stream",
     "text": [
      "15 - Unique segment_id amount.\n",
      "15 - Amount of unique combinations of segment_id and segment_parameterized, segment_name, \n",
      "0 - How many missmatches between segment_id and other columns.\n"
     ]
    }
   ],
   "source": [
    "leave_only_id_column(data, 'segment_id', ['segment_parameterized', 'segment_name'], inplace=True)"
   ]
  },
  {
   "cell_type": "code",
   "execution_count": 17,
   "id": "c2789fce-bbfb-4fc0-bc5c-0bfd3499d16f",
   "metadata": {},
   "outputs": [
    {
     "name": "stdout",
     "output_type": "stream",
     "text": [
      "2455 - Unique tree_path amount.\n",
      "2455 - Amount of unique combinations of tree_path and category_full_name_path, \n",
      "0 - How many missmatches between tree_path and other columns.\n"
     ]
    }
   ],
   "source": [
    "leave_only_id_column(data, 'tree_path', ['category_full_name_path'], inplace=True)"
   ]
  },
  {
   "cell_type": "code",
   "execution_count": 18,
   "id": "92cb00b2-afa7-462b-915d-d30c98ee94e6",
   "metadata": {},
   "outputs": [
    {
     "name": "stdout",
     "output_type": "stream",
     "text": [
      "2455 - Unique tree_path amount.\n",
      "2455 - Amount of unique combinations of tree_path and categories_descendant_ids, categories_ancestor_ids, \n",
      "0 - How many missmatches between tree_path and other columns.\n"
     ]
    }
   ],
   "source": [
    "# In tree path we want to keep it separated in two columns for now - categorty_descendants (parents) and category_ancestors (subcategories). We will check for missmatches and drop tree_path if there are none\n",
    "leave_only_id_column(data, 'tree_path', ['categories_descendant_ids', 'categories_ancestor_ids'])\n",
    "\n",
    "data.drop(labels='tree_path', axis=1, inplace=True)"
   ]
  },
  {
   "cell_type": "markdown",
   "id": "5cb52695-292f-4baa-9a37-6cfd9b59a727",
   "metadata": {},
   "source": [
    "**Coding remaining string and boolean values to numerics** \\\n",
    "With the usage of replace (booleans) and OrdinalEncounter (strings) we will change values to their representation in numbers."
   ]
  },
  {
   "cell_type": "code",
   "execution_count": 76,
   "id": "743ea4a3-b258-4904-82bd-1af4bfc442ef",
   "metadata": {},
   "outputs": [],
   "source": [
    "data.replace([True, False], [1, 0], inplace=True)"
   ]
  },
  {
   "cell_type": "code",
   "execution_count": 96,
   "id": "b4495ec4-fb59-413f-9252-8b92f3ee73da",
   "metadata": {},
   "outputs": [
    {
     "name": "stdout",
     "output_type": "stream",
     "text": [
      "Column bill_country has mapping of:\n",
      "BG      1\n",
      "CZ      2\n",
      "AT      3\n",
      "DK      4\n",
      "PL      5\n",
      "HU      6\n",
      "SI      7\n",
      "SK      8\n",
      "RO      9\n",
      "IE     10\n",
      "PT     11\n",
      "HR     12\n",
      "GB     13\n",
      "DE     14\n",
      "FR     15\n",
      "EL     16\n",
      "IT     17\n",
      "NL     18\n",
      "LV     19\n",
      "ES     20\n",
      "FI     21\n",
      "BE     22\n",
      "SE     23\n",
      "EE     24\n",
      "GR     25\n",
      "LT     26\n",
      "LU     27\n",
      "CH     28\n",
      "TR     29\n",
      "UA     30\n",
      "RS     31\n",
      "BA     32\n",
      "NaN    -2\n",
      "dtype: int64 \n",
      "\n",
      "\n",
      "Column basket_type has mapping of:\n",
      "standard            1\n",
      "internal            2\n",
      "express_checkout    3\n",
      "NaN                -2\n",
      "dtype: int64 \n",
      "\n",
      "\n",
      "Column item_type has mapping of:\n",
      "standard           1\n",
      "set                2\n",
      "digital_licence    3\n",
      "NaN               -2\n",
      "dtype: int64 \n",
      "\n",
      "\n",
      "Column product_status has mapping of:\n",
      "active      1\n",
      "archived    2\n",
      "ended       3\n",
      "inactive    4\n",
      "NaN        -2\n",
      "dtype: int64 \n",
      "\n",
      "\n",
      "Column category_status has mapping of:\n",
      "active      1\n",
      "inactive    2\n",
      "NaN        -2\n",
      "dtype: int64 \n",
      "\n",
      "\n"
     ]
    }
   ],
   "source": [
    "columns_to_change = ['bill_country',\n",
    " 'basket_type',\n",
    " 'item_type',\n",
    " 'product_status',\n",
    " 'category_status']\n",
    "\n",
    "ce_ordinal = ce.OrdinalEncoder(cols=columns_to_change)\n",
    "data = ce_ordinal.fit_transform(data)\n",
    "\n",
    "for mapped in ce_ordinal.fit(data).mapping:\n",
    "    print(f\"Column {mapped['col']} has mapping of:\")\n",
    "    print(f\"{mapped['mapping']} \\n\\n\")"
   ]
  },
  {
   "cell_type": "markdown",
   "id": "ec93fd85-d515-4559-a4ae-c60f3b7a4a15",
   "metadata": {},
   "source": [
    "Instead of saving full path to category we just want to know how deep given category is and how many subcategories it has. We will convert arrays of ancestors/ descendants into numbers representing amounts of ids in given lists."
   ]
  },
  {
   "cell_type": "code",
   "execution_count": 159,
   "id": "b0eaece3-33ac-4622-a66c-f3dbee718f53",
   "metadata": {},
   "outputs": [
    {
     "data": {
      "image/png": "[encoded data removed]",
      "text/plain": [
       "<Figure size 432x288 with 1 Axes>"
      ]
     },
     "metadata": {
      "needs_background": "light"
     },
     "output_type": "display_data"
    },
    {
     "data": {
      "image/png": "[encoded data removed]",
      "text/plain": [
       "<Figure size 432x288 with 1 Axes>"
      ]
     },
     "metadata": {
      "needs_background": "light"
     },
     "output_type": "display_data"
    }
   ],
   "source": [
    "ancestor_count = [len(i.split(',')) for i in data.categories_ancestor_ids]\n",
    "descendant_count = [len(i.split(',')) for i in data.categories_descendant_ids]\n",
    "\n",
    "data['ancestor_count'] = ancestor_count\n",
    "data['descendant_count'] = descendant_count\n",
    "\n",
    "data.ancestor_count.value_counts(normalize=True).sort_index().plot(kind='barh', title='Ancestor count share')\n",
    "plt.show()\n",
    "\n",
    "data.descendant_count.value_counts(normalize=True).sort_index().plot(kind='barh', title='Descendant count share')\n",
    "plt.show()\n",
    "\n",
    "data.drop(labels=['categories_ancestor_ids', 'categories_descendant_ids'], axis=1, inplace=True)"
   ]
  },
  {
   "cell_type": "markdown",
   "id": "d4bd625b-bb04-490b-9738-dec62d3871c4",
   "metadata": {},
   "source": [
    "# 2. Dealing with outliers"
   ]
  },
  {
   "cell_type": "code",
   "execution_count": 160,
   "id": "2ba8b92f-2405-46e5-ac44-df9035e30cf8",
   "metadata": {},
   "outputs": [
    {
     "data": {
      "text/plain": [
       "['bill_country',\n",
       " 'currency_id',\n",
       " 'basket_id',\n",
       " 'doc_date',\n",
       " 'exchange_currency_rate',\n",
       " 'basket_total_price_with_vat',\n",
       " 'count_basket_items',\n",
       " 'basket_count_products',\n",
       " 'basket_type',\n",
       " 'item_quantity',\n",
       " 'item_type',\n",
       " 'item_unit_price_with_vat',\n",
       " 'item_total_discount_with_vat',\n",
       " 'product_id',\n",
       " 'category_id',\n",
       " 'brand_id',\n",
       " 'product_status',\n",
       " 'reviews_count',\n",
       " 'reviews_average_score_price',\n",
       " 'reviews_average_score_quality',\n",
       " 'reviews_average_score_properties',\n",
       " 'reviews_average_score_overall',\n",
       " 'reviews_average_score',\n",
       " 'is_in_stock',\n",
       " 'is_ended',\n",
       " 'is_new',\n",
       " 'is_boosted',\n",
       " 'product_purchase_price',\n",
       " 'eshop_stock_count',\n",
       " 'is_fifo',\n",
       " 'category_status',\n",
       " 'segment_id',\n",
       " 'default_warranty_period',\n",
       " 'doc_day',\n",
       " 'doc_month',\n",
       " 'doc_year',\n",
       " 'doc_weekday',\n",
       " 'ancestor_count',\n",
       " 'descendant_count']"
      ]
     },
     "execution_count": 160,
     "metadata": {},
     "output_type": "execute_result"
    }
   ],
   "source": [
    "TODO_TYPE_CHANGE = list(data.columns)\n",
    "TODO_TYPE_CHANGE"
   ]
  }
 ],
 "metadata": {
  "kernelspec": {
   "display_name": "Python 3",
   "language": "python",
   "name": "python3"
  },
  "language_info": {
   "codemirror_mode": {
    "name": "ipython",
    "version": 3
   },
   "file_extension": ".py",
   "mimetype": "text/x-python",
   "name": "python",
   "nbconvert_exporter": "python",
   "pygments_lexer": "ipython3",
   "version": "3.8.10"
  }
 },
 "nbformat": 4,
 "nbformat_minor": 5
}
